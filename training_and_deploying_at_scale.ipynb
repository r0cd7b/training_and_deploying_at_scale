{
 "cells": [
  {
   "cell_type": "markdown",
   "id": "4579ff53-e818-43a4-b924-44adc9a9d862",
   "metadata": {},
   "source": [
    "**대규모 텐서플로 모델 훈련과 배포**"
   ]
  },
  {
   "cell_type": "markdown",
   "id": "bd38d987-20b3-4cc9-8574-73db1ddb1363",
   "metadata": {},
   "source": [
    "# 설정"
   ]
  },
  {
   "cell_type": "code",
   "execution_count": 1,
   "id": "22166b74-6cf6-428a-8e98-04b5655547b8",
   "metadata": {
    "scrolled": true
   },
   "outputs": [
    {
     "name": "stderr",
     "output_type": "stream",
     "text": [
      "2025-08-18 02:44:27.470533: E external/local_xla/xla/stream_executor/cuda/cuda_fft.cc:467] Unable to register cuFFT factory: Attempting to register factory for plugin cuFFT when one has already been registered\n",
      "WARNING: All log messages before absl::InitializeLog() is called are written to STDERR\n",
      "E0000 00:00:1755485067.484535    1918 cuda_dnn.cc:8579] Unable to register cuDNN factory: Attempting to register factory for plugin cuDNN when one has already been registered\n",
      "E0000 00:00:1755485067.488908    1918 cuda_blas.cc:1407] Unable to register cuBLAS factory: Attempting to register factory for plugin cuBLAS when one has already been registered\n",
      "W0000 00:00:1755485067.502110    1918 computation_placer.cc:177] computation placer already registered. Please check linkage and avoid linking the same target more than once.\n",
      "W0000 00:00:1755485067.502124    1918 computation_placer.cc:177] computation placer already registered. Please check linkage and avoid linking the same target more than once.\n",
      "W0000 00:00:1755485067.502126    1918 computation_placer.cc:177] computation placer already registered. Please check linkage and avoid linking the same target more than once.\n",
      "W0000 00:00:1755485067.502127    1918 computation_placer.cc:177] computation placer already registered. Please check linkage and avoid linking the same target more than once.\n",
      "2025-08-18 02:44:27.506199: I tensorflow/core/platform/cpu_feature_guard.cc:210] This TensorFlow binary is optimized to use available CPU instructions in performance-critical operations.\n",
      "To enable the following instructions: AVX2 FMA, in other operations, rebuild TensorFlow with the appropriate compiler flags.\n"
     ]
    },
    {
     "data": {
      "text/plain": [
       "[PhysicalDevice(name='/physical_device:GPU:0', device_type='GPU')]"
      ]
     },
     "execution_count": 1,
     "metadata": {},
     "output_type": "execute_result"
    }
   ],
   "source": [
    "from tensorflow import config\n",
    "\n",
    "config.list_physical_devices('GPU')"
   ]
  },
  {
   "cell_type": "markdown",
   "id": "4b1be943-63b3-4d0c-8fde-1e5c405b05c2",
   "metadata": {
    "scrolled": true
   },
   "source": [
    "# 텐서플로 모델 서빙하기"
   ]
  },
  {
   "cell_type": "markdown",
   "id": "86eb5c2e-dc4e-44ef-bc25-a5dd5522b3f6",
   "metadata": {},
   "source": [
    "먼저 TF 서빙을 사용하여 모델을 배포한 다음 Google Vertex AI에 배포해 본다."
   ]
  },
  {
   "cell_type": "markdown",
   "id": "1309a9b1-51be-4201-acba-e8803420ea6b",
   "metadata": {},
   "source": [
    "## 텐서플로 서빙 사용"
   ]
  },
  {
   "cell_type": "markdown",
   "id": "935d5b5c-5a56-4cd7-bd6f-3919a6685218",
   "metadata": {
    "id": "zKEy9mBwVFyD"
   },
   "source": [
    "가장 먼저 모델을 빌드하고 학습한 다음 SavedModel 포맷으로 내보낸다."
   ]
  },
  {
   "cell_type": "markdown",
   "id": "ba2200fe-5cb1-4cc5-a972-bbcb699fe433",
   "metadata": {
    "id": "goSzUGwCVFyD"
   },
   "source": [
    "### SavedModel 내보내기"
   ]
  },
  {
   "cell_type": "markdown",
   "id": "f750bdc2-70f0-4b2e-8218-2cbb3ee1e754",
   "metadata": {
    "id": "cRFHavXnVFyD"
   },
   "source": [
    "MNIST 데이터 세트를 로드하고, 스케일을 조정하고, 분할한다."
   ]
  },
  {
   "cell_type": "code",
   "execution_count": 2,
   "id": "a01da7cc-bb70-49c1-bb5a-dc0d2efdd39d",
   "metadata": {
    "scrolled": true
   },
   "outputs": [
    {
     "name": "stderr",
     "output_type": "stream",
     "text": [
      "I0000 00:00:1755485069.486324    1918 gpu_device.cc:2019] Created device /job:localhost/replica:0/task:0/device:GPU:0 with 5557 MB memory:  -> device: 0, name: NVIDIA GeForce RTX 3070 Ti, pci bus id: 0000:06:00.0, compute capability: 8.6\n"
     ]
    },
    {
     "name": "stdout",
     "output_type": "stream",
     "text": [
      "Epoch 1/10\n"
     ]
    },
    {
     "name": "stderr",
     "output_type": "stream",
     "text": [
      "WARNING: All log messages before absl::InitializeLog() is called are written to STDERR\n",
      "I0000 00:00:1755485070.662537    1968 service.cc:152] XLA service 0x7bae14005bf0 initialized for platform CUDA (this does not guarantee that XLA will be used). Devices:\n",
      "I0000 00:00:1755485070.662577    1968 service.cc:160]   StreamExecutor device (0): NVIDIA GeForce RTX 3070 Ti, Compute Capability 8.6\n",
      "2025-08-18 02:44:30.674189: I tensorflow/compiler/mlir/tensorflow/utils/dump_mlir_util.cc:269] disabling MLIR crash reproducer, set env var `MLIR_CRASH_REPRODUCER_DIRECTORY` to enable.\n",
      "I0000 00:00:1755485070.709426    1968 cuda_dnn.cc:529] Loaded cuDNN version 90300\n",
      "2025-08-18 02:44:31.450709: I external/local_xla/xla/stream_executor/cuda/subprocess_compilation.cc:346] ptxas warning : Registers are spilled to local memory in function 'gemm_fusion_dot_36_0', 92 bytes spill stores, 96 bytes spill loads\n",
      "\n",
      "2025-08-18 02:44:31.883314: I external/local_xla/xla/stream_executor/cuda/subprocess_compilation.cc:346] ptxas warning : Registers are spilled to local memory in function 'gemm_fusion_dot_36', 300 bytes spill stores, 300 bytes spill loads\n",
      "\n",
      "2025-08-18 02:44:31.999134: I external/local_xla/xla/stream_executor/cuda/subprocess_compilation.cc:346] ptxas warning : Registers are spilled to local memory in function 'gemm_fusion_dot_36', 532 bytes spill stores, 532 bytes spill loads\n",
      "\n",
      "2025-08-18 02:44:32.053297: I external/local_xla/xla/stream_executor/cuda/subprocess_compilation.cc:346] ptxas warning : Registers are spilled to local memory in function 'gemm_fusion_dot_36', 392 bytes spill stores, 392 bytes spill loads\n",
      "\n",
      "2025-08-18 02:44:32.109536: I external/local_xla/xla/stream_executor/cuda/subprocess_compilation.cc:346] ptxas warning : Registers are spilled to local memory in function 'gemm_fusion_dot_36', 1156 bytes spill stores, 1156 bytes spill loads\n",
      "\n",
      "2025-08-18 02:44:32.506124: I external/local_xla/xla/stream_executor/cuda/subprocess_compilation.cc:346] ptxas warning : Registers are spilled to local memory in function 'gemm_fusion_dot_36', 76 bytes spill stores, 76 bytes spill loads\n",
      "\n",
      "2025-08-18 02:44:32.735782: I external/local_xla/xla/stream_executor/cuda/subprocess_compilation.cc:346] ptxas warning : Registers are spilled to local memory in function 'gemm_fusion_dot_36', 5256 bytes spill stores, 5240 bytes spill loads\n",
      "\n",
      "2025-08-18 02:44:32.804131: I external/local_xla/xla/stream_executor/cuda/subprocess_compilation.cc:346] ptxas warning : Registers are spilled to local memory in function 'gemm_fusion_dot_173', 12 bytes spill stores, 12 bytes spill loads\n",
      "\n",
      "2025-08-18 02:44:32.857013: I external/local_xla/xla/stream_executor/cuda/subprocess_compilation.cc:346] ptxas warning : Registers are spilled to local memory in function 'gemm_fusion_dot_36', 5116 bytes spill stores, 5164 bytes spill loads\n",
      "\n",
      "2025-08-18 02:44:33.208740: I external/local_xla/xla/stream_executor/cuda/subprocess_compilation.cc:346] ptxas warning : Registers are spilled to local memory in function 'gemm_fusion_dot_173', 12 bytes spill stores, 12 bytes spill loads\n",
      "\n",
      "2025-08-18 02:44:33.216350: I external/local_xla/xla/stream_executor/cuda/subprocess_compilation.cc:346] ptxas warning : Registers are spilled to local memory in function 'gemm_fusion_dot_173', 4 bytes spill stores, 4 bytes spill loads\n",
      "\n"
     ]
    },
    {
     "name": "stdout",
     "output_type": "stream",
     "text": [
      "\u001b[1m  77/1719\u001b[0m \u001b[37m━━━━━━━━━━━━━━━━━━━━\u001b[0m \u001b[1m3s\u001b[0m 2ms/step - accuracy: 0.1856 - loss: 2.2232"
     ]
    },
    {
     "name": "stderr",
     "output_type": "stream",
     "text": [
      "I0000 00:00:1755485073.888349    1968 device_compiler.h:188] Compiled cluster using XLA!  This line is logged at most once for the lifetime of the process.\n"
     ]
    },
    {
     "name": "stdout",
     "output_type": "stream",
     "text": [
      "\u001b[1m1716/1719\u001b[0m \u001b[32m━━━━━━━━━━━━━━━━━━━\u001b[0m\u001b[37m━\u001b[0m \u001b[1m0s\u001b[0m 2ms/step - accuracy: 0.7099 - loss: 1.0953"
     ]
    },
    {
     "name": "stderr",
     "output_type": "stream",
     "text": [
      "2025-08-18 02:44:38.033223: I external/local_xla/xla/stream_executor/cuda/subprocess_compilation.cc:346] ptxas warning : Registers are spilled to local memory in function 'gemm_fusion_dot_36', 72 bytes spill stores, 72 bytes spill loads\n",
      "\n",
      "2025-08-18 02:44:38.071357: I external/local_xla/xla/stream_executor/cuda/subprocess_compilation.cc:346] ptxas warning : Registers are spilled to local memory in function 'gemm_fusion_dot_36_0', 92 bytes spill stores, 92 bytes spill loads\n",
      "\n",
      "2025-08-18 02:44:38.196090: I external/local_xla/xla/stream_executor/cuda/subprocess_compilation.cc:346] ptxas warning : Registers are spilled to local memory in function 'gemm_fusion_dot_36', 8 bytes spill stores, 8 bytes spill loads\n",
      "\n",
      "2025-08-18 02:44:38.253154: I external/local_xla/xla/stream_executor/cuda/subprocess_compilation.cc:346] ptxas warning : Registers are spilled to local memory in function 'gemm_fusion_dot_36', 536 bytes spill stores, 536 bytes spill loads\n",
      "\n",
      "2025-08-18 02:44:38.378360: I external/local_xla/xla/stream_executor/cuda/subprocess_compilation.cc:346] ptxas warning : Registers are spilled to local memory in function 'gemm_fusion_dot_36', 284 bytes spill stores, 284 bytes spill loads\n",
      "\n",
      "2025-08-18 02:44:38.753018: I external/local_xla/xla/stream_executor/cuda/subprocess_compilation.cc:346] ptxas warning : Registers are spilled to local memory in function 'gemm_fusion_dot_36', 396 bytes spill stores, 396 bytes spill loads\n",
      "\n",
      "2025-08-18 02:44:38.847491: I external/local_xla/xla/stream_executor/cuda/subprocess_compilation.cc:346] ptxas warning : Registers are spilled to local memory in function 'gemm_fusion_dot_36', 5108 bytes spill stores, 5160 bytes spill loads\n",
      "\n",
      "2025-08-18 02:44:39.015367: I external/local_xla/xla/stream_executor/cuda/subprocess_compilation.cc:346] ptxas warning : Registers are spilled to local memory in function 'gemm_fusion_dot_173', 12 bytes spill stores, 12 bytes spill loads\n",
      "\n",
      "2025-08-18 02:44:39.065599: I external/local_xla/xla/stream_executor/cuda/subprocess_compilation.cc:346] ptxas warning : Registers are spilled to local memory in function 'gemm_fusion_dot_173', 12 bytes spill stores, 12 bytes spill loads\n",
      "\n",
      "2025-08-18 02:44:39.076763: I external/local_xla/xla/stream_executor/cuda/subprocess_compilation.cc:346] ptxas warning : Registers are spilled to local memory in function 'gemm_fusion_dot_36', 5248 bytes spill stores, 5240 bytes spill loads\n",
      "\n",
      "2025-08-18 02:44:39.260482: I external/local_xla/xla/stream_executor/cuda/subprocess_compilation.cc:346] ptxas warning : Registers are spilled to local memory in function 'gemm_fusion_dot_36', 1188 bytes spill stores, 1192 bytes spill loads\n",
      "\n",
      "2025-08-18 02:44:39.262817: I external/local_xla/xla/stream_executor/cuda/subprocess_compilation.cc:346] ptxas warning : Registers are spilled to local memory in function 'gemm_fusion_dot_36', 8 bytes spill stores, 8 bytes spill loads\n",
      "\n",
      "2025-08-18 02:44:39.315219: I external/local_xla/xla/stream_executor/cuda/subprocess_compilation.cc:346] ptxas warning : Registers are spilled to local memory in function 'gemm_fusion_dot_173', 12 bytes spill stores, 12 bytes spill loads\n",
      "\n"
     ]
    },
    {
     "name": "stdout",
     "output_type": "stream",
     "text": [
      "\u001b[1m1719/1719\u001b[0m \u001b[32m━━━━━━━━━━━━━━━━━━━━\u001b[0m\u001b[37m\u001b[0m \u001b[1m0s\u001b[0m 4ms/step - accuracy: 0.7101 - loss: 1.0946"
     ]
    },
    {
     "name": "stderr",
     "output_type": "stream",
     "text": [
      "2025-08-18 02:44:41.837208: I external/local_xla/xla/stream_executor/cuda/subprocess_compilation.cc:346] ptxas warning : Registers are spilled to local memory in function 'gemm_fusion_dot_34', 8 bytes spill stores, 8 bytes spill loads\n",
      "\n",
      "2025-08-18 02:44:41.890388: I external/local_xla/xla/stream_executor/cuda/subprocess_compilation.cc:346] ptxas warning : Registers are spilled to local memory in function 'gemm_fusion_dot_34', 296 bytes spill stores, 296 bytes spill loads\n",
      "\n",
      "2025-08-18 02:44:41.939128: I external/local_xla/xla/stream_executor/cuda/subprocess_compilation.cc:346] ptxas warning : Registers are spilled to local memory in function 'gemm_fusion_dot_34', 8 bytes spill stores, 8 bytes spill loads\n",
      "\n",
      "2025-08-18 02:44:42.024890: I external/local_xla/xla/stream_executor/cuda/subprocess_compilation.cc:346] ptxas warning : Registers are spilled to local memory in function 'gemm_fusion_dot_34', 792 bytes spill stores, 844 bytes spill loads\n",
      "\n",
      "2025-08-18 02:44:42.250937: I external/local_xla/xla/stream_executor/cuda/subprocess_compilation.cc:346] ptxas warning : Registers are spilled to local memory in function 'gemm_fusion_dot_34', 4632 bytes spill stores, 4676 bytes spill loads\n",
      "\n",
      "2025-08-18 02:44:42.361341: I external/local_xla/xla/stream_executor/cuda/subprocess_compilation.cc:346] ptxas warning : Registers are spilled to local memory in function 'gemm_fusion_dot_34', 4872 bytes spill stores, 4860 bytes spill loads\n",
      "\n"
     ]
    },
    {
     "name": "stdout",
     "output_type": "stream",
     "text": [
      "\u001b[1m1719/1719\u001b[0m \u001b[32m━━━━━━━━━━━━━━━━━━━━\u001b[0m\u001b[37m\u001b[0m \u001b[1m12s\u001b[0m 5ms/step - accuracy: 0.7102 - loss: 1.0943 - val_accuracy: 0.9000 - val_loss: 0.3708\n",
      "Epoch 2/10\n",
      "\u001b[1m1719/1719\u001b[0m \u001b[32m━━━━━━━━━━━━━━━━━━━━\u001b[0m\u001b[37m\u001b[0m \u001b[1m4s\u001b[0m 2ms/step - accuracy: 0.8950 - loss: 0.3693 - val_accuracy: 0.9188 - val_loss: 0.3006\n",
      "Epoch 3/10\n",
      "\u001b[1m1719/1719\u001b[0m \u001b[32m━━━━━━━━━━━━━━━━━━━━\u001b[0m\u001b[37m\u001b[0m \u001b[1m4s\u001b[0m 2ms/step - accuracy: 0.9140 - loss: 0.3051 - val_accuracy: 0.9282 - val_loss: 0.2673\n",
      "Epoch 4/10\n",
      "\u001b[1m1719/1719\u001b[0m \u001b[32m━━━━━━━━━━━━━━━━━━━━\u001b[0m\u001b[37m\u001b[0m \u001b[1m4s\u001b[0m 2ms/step - accuracy: 0.9197 - loss: 0.2853 - val_accuracy: 0.9348 - val_loss: 0.2455\n",
      "Epoch 5/10\n",
      "\u001b[1m1719/1719\u001b[0m \u001b[32m━━━━━━━━━━━━━━━━━━━━\u001b[0m\u001b[37m\u001b[0m \u001b[1m4s\u001b[0m 2ms/step - accuracy: 0.9314 - loss: 0.2486 - val_accuracy: 0.9370 - val_loss: 0.2252\n",
      "Epoch 6/10\n",
      "\u001b[1m1719/1719\u001b[0m \u001b[32m━━━━━━━━━━━━━━━━━━━━\u001b[0m\u001b[37m\u001b[0m \u001b[1m4s\u001b[0m 2ms/step - accuracy: 0.9343 - loss: 0.2331 - val_accuracy: 0.9424 - val_loss: 0.2116\n",
      "Epoch 7/10\n",
      "\u001b[1m1719/1719\u001b[0m \u001b[32m━━━━━━━━━━━━━━━━━━━━\u001b[0m\u001b[37m\u001b[0m \u001b[1m4s\u001b[0m 2ms/step - accuracy: 0.9410 - loss: 0.2139 - val_accuracy: 0.9458 - val_loss: 0.1997\n",
      "Epoch 8/10\n",
      "\u001b[1m1719/1719\u001b[0m \u001b[32m━━━━━━━━━━━━━━━━━━━━\u001b[0m\u001b[37m\u001b[0m \u001b[1m4s\u001b[0m 2ms/step - accuracy: 0.9430 - loss: 0.2036 - val_accuracy: 0.9496 - val_loss: 0.1888\n",
      "Epoch 9/10\n",
      "\u001b[1m1719/1719\u001b[0m \u001b[32m━━━━━━━━━━━━━━━━━━━━\u001b[0m\u001b[37m\u001b[0m \u001b[1m4s\u001b[0m 2ms/step - accuracy: 0.9465 - loss: 0.1923 - val_accuracy: 0.9518 - val_loss: 0.1823\n",
      "Epoch 10/10\n",
      "\u001b[1m1719/1719\u001b[0m \u001b[32m━━━━━━━━━━━━━━━━━━━━\u001b[0m\u001b[37m\u001b[0m \u001b[1m4s\u001b[0m 2ms/step - accuracy: 0.9502 - loss: 0.1785 - val_accuracy: 0.9528 - val_loss: 0.1730\n",
      "INFO:tensorflow:Assets written to: my_mnist_model/0001/assets\n"
     ]
    },
    {
     "name": "stderr",
     "output_type": "stream",
     "text": [
      "INFO:tensorflow:Assets written to: my_mnist_model/0001/assets\n"
     ]
    },
    {
     "name": "stdout",
     "output_type": "stream",
     "text": [
      "Saved artifact at 'my_mnist_model/0001'. The following endpoints are available:\n",
      "\n",
      "* Endpoint 'serve'\n",
      "  args_0 (POSITIONAL_ONLY): TensorSpec(shape=(None, 28, 28), dtype=tf.uint8, name='keras_tensor')\n",
      "Output Type:\n",
      "  TensorSpec(shape=(None, 10), dtype=tf.float32, name=None)\n",
      "Captures:\n",
      "  135991302106832: TensorSpec(shape=(), dtype=tf.resource, name=None)\n",
      "  135991302109136: TensorSpec(shape=(), dtype=tf.resource, name=None)\n",
      "  135991302107984: TensorSpec(shape=(), dtype=tf.resource, name=None)\n",
      "  135991302109712: TensorSpec(shape=(), dtype=tf.resource, name=None)\n"
     ]
    }
   ],
   "source": [
    "from tensorflow.keras.datasets import mnist\n",
    "from tensorflow.keras import backend, layers\n",
    "from tensorflow import keras\n",
    "import tensorflow as tf\n",
    "from pathlib import Path\n",
    "\n",
    "mnist_ = mnist.load_data()\n",
    "(X_train_full, y_train_full), (X_test, y_test) = mnist_\n",
    "X_valid, X_train = X_train_full[:5000], X_train_full[5000:]\n",
    "y_valid, y_train = y_train_full[:5000], y_train_full[5000:]\n",
    "backend.clear_session()\n",
    "model = keras.Sequential()\n",
    "model.add(keras.Input((28, 28), dtype=tf.uint8))\n",
    "model.add(layers.Flatten())\n",
    "model.add(layers.Rescaling(1 / 255))\n",
    "model.add(layers.Dense(100, activation='relu'))\n",
    "model.add(layers.Dense(10, activation='softmax'))\n",
    "model.compile(optimizer='SGD', loss='sparse_categorical_crossentropy', metrics=['accuracy'])\n",
    "model.fit(X_train, y_train, epochs=10, validation_data=(X_valid, y_valid))\n",
    "model_name = 'my_mnist_model'\n",
    "model_version = '0001'\n",
    "model_path = Path(model_name) / model_version\n",
    "model.export(model_path)"
   ]
  },
  {
   "cell_type": "markdown",
   "id": "a90a5f4d-5092-476c-8ed0-3786fd1e2a6b",
   "metadata": {
    "id": "uIK2q8hoVFyE"
   },
   "source": [
    "파일 트리를 살핀다:"
   ]
  },
  {
   "cell_type": "code",
   "execution_count": 4,
   "id": "55fa7f31-2674-4886-9675-acc628b709b8",
   "metadata": {
    "scrolled": true
   },
   "outputs": [
    {
     "data": {
      "text/plain": [
       "['my_mnist_model/0001',\n",
       " 'my_mnist_model/0001/assets',\n",
       " 'my_mnist_model/0001/fingerprint.pb',\n",
       " 'my_mnist_model/0001/saved_model.pb',\n",
       " 'my_mnist_model/0001/variables',\n",
       " 'my_mnist_model/0001/variables/variables.data-00000-of-00001',\n",
       " 'my_mnist_model/0001/variables/variables.index']"
      ]
     },
     "execution_count": 4,
     "metadata": {},
     "output_type": "execute_result"
    }
   ],
   "source": [
    "sorted([str(path) for path in model_path.parent.glob('**/*')])"
   ]
  },
  {
   "cell_type": "markdown",
   "id": "f997f48b-af4c-4e15-9752-5cad0fdb4b18",
   "metadata": {
    "id": "7Cx61kc5VFyE"
   },
   "source": [
    "SavedModel을 검사한다:"
   ]
  },
  {
   "cell_type": "code",
   "execution_count": 5,
   "id": "25fb662c-ea0a-46a5-aeff-6ca5f5509c6c",
   "metadata": {
    "colab": {
     "base_uri": "https://localhost:8080/"
    },
    "id": "CQfjlLGzVFyE",
    "outputId": "bbdb9a4b-4c8b-4746-f20c-af746da30dc6",
    "scrolled": true
   },
   "outputs": [
    {
     "name": "stdout",
     "output_type": "stream",
     "text": [
      "2025-08-18 02:45:19.010531: E external/local_xla/xla/stream_executor/cuda/cuda_fft.cc:467] Unable to register cuFFT factory: Attempting to register factory for plugin cuFFT when one has already been registered\n",
      "WARNING: All log messages before absl::InitializeLog() is called are written to STDERR\n",
      "E0000 00:00:1755485119.025760    2784 cuda_dnn.cc:8579] Unable to register cuDNN factory: Attempting to register factory for plugin cuDNN when one has already been registered\n",
      "E0000 00:00:1755485119.034577    2784 cuda_blas.cc:1407] Unable to register cuBLAS factory: Attempting to register factory for plugin cuBLAS when one has already been registered\n",
      "W0000 00:00:1755485119.053987    2784 computation_placer.cc:177] computation placer already registered. Please check linkage and avoid linking the same target more than once.\n",
      "W0000 00:00:1755485119.054027    2784 computation_placer.cc:177] computation placer already registered. Please check linkage and avoid linking the same target more than once.\n",
      "W0000 00:00:1755485119.054034    2784 computation_placer.cc:177] computation placer already registered. Please check linkage and avoid linking the same target more than once.\n",
      "W0000 00:00:1755485119.054052    2784 computation_placer.cc:177] computation placer already registered. Please check linkage and avoid linking the same target more than once.\n",
      "2025-08-18 02:45:19.058523: I tensorflow/core/platform/cpu_feature_guard.cc:210] This TensorFlow binary is optimized to use available CPU instructions in performance-critical operations.\n",
      "To enable the following instructions: AVX2 FMA, in other operations, rebuild TensorFlow with the appropriate compiler flags.\n",
      "The given SavedModel contains the following tag-sets:\n",
      "'serve'\n"
     ]
    }
   ],
   "source": [
    "!saved_model_cli show --dir '{model_path}'"
   ]
  },
  {
   "cell_type": "code",
   "execution_count": 6,
   "id": "35e4cefb-6632-476e-ba6b-43a056800717",
   "metadata": {
    "scrolled": true
   },
   "outputs": [
    {
     "name": "stdout",
     "output_type": "stream",
     "text": [
      "2025-08-18 02:45:21.699076: E external/local_xla/xla/stream_executor/cuda/cuda_fft.cc:467] Unable to register cuFFT factory: Attempting to register factory for plugin cuFFT when one has already been registered\n",
      "WARNING: All log messages before absl::InitializeLog() is called are written to STDERR\n",
      "E0000 00:00:1755485121.712145    2800 cuda_dnn.cc:8579] Unable to register cuDNN factory: Attempting to register factory for plugin cuDNN when one has already been registered\n",
      "E0000 00:00:1755485121.716310    2800 cuda_blas.cc:1407] Unable to register cuBLAS factory: Attempting to register factory for plugin cuBLAS when one has already been registered\n",
      "W0000 00:00:1755485121.727815    2800 computation_placer.cc:177] computation placer already registered. Please check linkage and avoid linking the same target more than once.\n",
      "W0000 00:00:1755485121.727851    2800 computation_placer.cc:177] computation placer already registered. Please check linkage and avoid linking the same target more than once.\n",
      "W0000 00:00:1755485121.727857    2800 computation_placer.cc:177] computation placer already registered. Please check linkage and avoid linking the same target more than once.\n",
      "W0000 00:00:1755485121.727860    2800 computation_placer.cc:177] computation placer already registered. Please check linkage and avoid linking the same target more than once.\n",
      "2025-08-18 02:45:21.731267: I tensorflow/core/platform/cpu_feature_guard.cc:210] This TensorFlow binary is optimized to use available CPU instructions in performance-critical operations.\n",
      "To enable the following instructions: AVX2 FMA, in other operations, rebuild TensorFlow with the appropriate compiler flags.\n",
      "The given SavedModel MetaGraphDef contains SignatureDefs with the following keys:\n",
      "SignatureDef key: \"__saved_model_init_op\"\n",
      "SignatureDef key: \"serve\"\n",
      "SignatureDef key: \"serving_default\"\n"
     ]
    }
   ],
   "source": [
    "!saved_model_cli show --dir '{model_path}' --tag_set serve"
   ]
  },
  {
   "cell_type": "code",
   "execution_count": 7,
   "id": "12825c63-e383-4361-aba3-34aa148b4649",
   "metadata": {
    "scrolled": true
   },
   "outputs": [
    {
     "name": "stdout",
     "output_type": "stream",
     "text": [
      "2025-08-18 02:45:24.400845: E external/local_xla/xla/stream_executor/cuda/cuda_fft.cc:467] Unable to register cuFFT factory: Attempting to register factory for plugin cuFFT when one has already been registered\n",
      "WARNING: All log messages before absl::InitializeLog() is called are written to STDERR\n",
      "E0000 00:00:1755485124.414182    2817 cuda_dnn.cc:8579] Unable to register cuDNN factory: Attempting to register factory for plugin cuDNN when one has already been registered\n",
      "E0000 00:00:1755485124.418509    2817 cuda_blas.cc:1407] Unable to register cuBLAS factory: Attempting to register factory for plugin cuBLAS when one has already been registered\n",
      "W0000 00:00:1755485124.430006    2817 computation_placer.cc:177] computation placer already registered. Please check linkage and avoid linking the same target more than once.\n",
      "W0000 00:00:1755485124.430041    2817 computation_placer.cc:177] computation placer already registered. Please check linkage and avoid linking the same target more than once.\n",
      "W0000 00:00:1755485124.430047    2817 computation_placer.cc:177] computation placer already registered. Please check linkage and avoid linking the same target more than once.\n",
      "W0000 00:00:1755485124.430050    2817 computation_placer.cc:177] computation placer already registered. Please check linkage and avoid linking the same target more than once.\n",
      "2025-08-18 02:45:24.433343: I tensorflow/core/platform/cpu_feature_guard.cc:210] This TensorFlow binary is optimized to use available CPU instructions in performance-critical operations.\n",
      "To enable the following instructions: AVX2 FMA, in other operations, rebuild TensorFlow with the appropriate compiler flags.\n",
      "The given SavedModel SignatureDef contains the following input(s):\n",
      "  inputs['keras_tensor'] tensor_info:\n",
      "      dtype: DT_UINT8\n",
      "      shape: (-1, 28, 28)\n",
      "      name: serving_default_keras_tensor:0\n",
      "The given SavedModel SignatureDef contains the following output(s):\n",
      "  outputs['output_0'] tensor_info:\n",
      "      dtype: DT_FLOAT\n",
      "      shape: (-1, 10)\n",
      "      name: StatefulPartitionedCall_1:0\n",
      "Method name is: tensorflow/serving/predict\n"
     ]
    }
   ],
   "source": [
    "!saved_model_cli show --dir '{model_path}' --tag_set serve --signature_def serving_default"
   ]
  },
  {
   "cell_type": "markdown",
   "id": "e0504ef0-5d1f-4831-8512-362ae21e54ec",
   "metadata": {
    "scrolled": true
   },
   "source": [
    "더 자세한 내용을 보려면 다음 명령을 실행한다:\n",
    "```ipython\n",
    "!saved_model_cli show --dir '{model_path}' --all\n",
    "```"
   ]
  },
  {
   "cell_type": "markdown",
   "id": "4cc51d78-b8b8-4f4b-aeca-16b54ab1b5e1",
   "metadata": {
    "id": "OvMBNdCDVFyF"
   },
   "source": [
    "### 텐서플로 서빙 설치 및 시작하기"
   ]
  },
  {
   "cell_type": "markdown",
   "id": "a3ae5e62-e4f1-4507-a58e-70a030912056",
   "metadata": {
    "id": "ueDMUZy7VFyG"
   },
   "source": [
    "도커를 사용해 TF 서빙을 설치하려면 먼저 [Docker](https://docs.docker.com/install/)가 설치되어 있는지 확인한 후 터미널에서 다음 명령을 실행한다.\n",
    "```bash\n",
    "docker pull tensorflow/serving:latest-gpu\n",
    "\n",
    "docker run -e MODEL_NAME=my_mnist_model --gpus all -it -p 8500:8500 -p 8501:8501 -v path\\to\\my_mnist_model:/models/my_mnist_model tensorflow/serving:latest-gpu\n",
    "```"
   ]
  },
  {
   "cell_type": "markdown",
   "id": "dc0b417d-01e2-4ed3-97d5-a5c07c56b6e6",
   "metadata": {
    "id": "0AK-0xoYVFyG"
   },
   "source": [
    "### REST API로 TF 서빙에 쿼리하기"
   ]
  },
  {
   "cell_type": "markdown",
   "id": "74416a7e-a3bf-4549-a1ae-2b898d37b0dc",
   "metadata": {
    "id": "8xaftl-rVFyG"
   },
   "source": [
    "다음으로 TF 서빙에 REST 쿼리를 전송한다:"
   ]
  },
  {
   "cell_type": "code",
   "execution_count": 8,
   "id": "72b136dc-6228-4ce9-9753-f105d56f5ebd",
   "metadata": {
    "scrolled": true
   },
   "outputs": [],
   "source": [
    "import json\n",
    "\n",
    "X_new = X_test[:3]  # 분류할 새로운 숫자 이미지가 3개 있다고 가정한다.\n",
    "request_json = json.dumps({'signature_name': 'serving_default', 'instances': X_new.tolist()})"
   ]
  },
  {
   "cell_type": "code",
   "execution_count": 9,
   "id": "b638da46-814b-4cd2-b672-22bef53eac8d",
   "metadata": {
    "scrolled": true
   },
   "outputs": [
    {
     "data": {
      "text/plain": [
       "'{\"signature_name\": \"serving_default\", \"instances\": [[[0, 0, 0, 0, 0, 0, 0, 0, 0, 0, 0, 0, 0, 0, 0, 0..., 0, 0]]]}'"
      ]
     },
     "execution_count": 9,
     "metadata": {},
     "output_type": "execute_result"
    }
   ],
   "source": [
    "request_json[:100] + '...' + request_json[-10:]"
   ]
  },
  {
   "cell_type": "markdown",
   "id": "1eeb304c-624a-4dba-aa13-78bc49f5537f",
   "metadata": {
    "id": "_xdNZs2rVFyG"
   },
   "source": [
    "이제 텐서플로 서빙의 REST API를 사용하여 예측한다:"
   ]
  },
  {
   "cell_type": "code",
   "execution_count": 10,
   "id": "0b284189-388f-4248-b657-b6989849e56b",
   "metadata": {
    "scrolled": true
   },
   "outputs": [],
   "source": [
    "import requests\n",
    "\n",
    "server_url = 'http://172.17.0.3:8501/v1/models/my_mnist_model:predict'\n",
    "response = requests.post(server_url, request_json)\n",
    "response.raise_for_status()  # 오류 발생 시 예외 발생\n",
    "response = response.json()"
   ]
  },
  {
   "cell_type": "code",
   "execution_count": 11,
   "id": "c83742b4-2e82-495a-a630-f324923145d1",
   "metadata": {
    "scrolled": true
   },
   "outputs": [
    {
     "data": {
      "text/plain": [
       "array([[0.  , 0.  , 0.  , 0.  , 0.  , 0.  , 0.  , 0.99, 0.  , 0.  ],\n",
       "       [0.  , 0.  , 0.97, 0.02, 0.  , 0.  , 0.01, 0.  , 0.  , 0.  ],\n",
       "       [0.  , 0.98, 0.01, 0.  , 0.  , 0.  , 0.  , 0.01, 0.  , 0.  ]])"
      ]
     },
     "execution_count": 11,
     "metadata": {},
     "output_type": "execute_result"
    }
   ],
   "source": [
    "import numpy as np\n",
    "\n",
    "y_proba = np.array(response['predictions'])\n",
    "y_proba.round(2)"
   ]
  },
  {
   "cell_type": "markdown",
   "id": "173332e7-eec4-4113-9f2b-0a3ed1347b8c",
   "metadata": {
    "id": "eEiYgEi_VFyK"
   },
   "source": [
    "### gRPC API로 TF 서빙에 쿼리하기"
   ]
  },
  {
   "cell_type": "code",
   "execution_count": 12,
   "id": "5b263222-947b-47db-b39c-395c1b9d3746",
   "metadata": {
    "scrolled": true
   },
   "outputs": [],
   "source": [
    "from tensorflow_serving.apis.predict_pb2 import PredictRequest\n",
    "\n",
    "request = PredictRequest()\n",
    "request.model_spec.name = model_name\n",
    "request.model_spec.signature_name = 'serving_default'\n",
    "input_name = 'keras_tensor'\n",
    "request.inputs[input_name].CopyFrom(tf.make_tensor_proto(X_new))"
   ]
  },
  {
   "cell_type": "code",
   "execution_count": 13,
   "id": "940d56ac-310a-4d22-8022-d40743fc7f0f",
   "metadata": {
    "scrolled": true
   },
   "outputs": [
    {
     "data": {
      "text/plain": [
       "model_spec {\n",
       "  name: \"my_mnist_model\"\n",
       "  signature_name: \"serving_default\"\n",
       "}\n",
       "inputs {\n",
       "  key: \"keras_tensor\"\n",
       "  value {\n",
       "    dtype: DT_UINT8\n",
       "    tensor_shape {\n",
       "      dim {\n",
       "        size: 3\n",
       "      }\n",
       "      dim {\n",
       "        size: 28\n",
       "      }\n",
       "      dim {\n",
       "        size: 28\n",
       "      }\n",
       "    }\n",
       "    tensor_content: \"\\000\\000\\000\\000\\000\\000\\000\\000\\000\\000\\000\\000\\000\\000\\000\\000\\000\\000\\000\\000\\000\\000\\000\\000\\000\\000\\000\\000\\000\\000\\000\\000\\000\\000\\000\\000\\000\\000\\000\\000\\000\\000\\000\\000\\000\\000\\000\\000\\000\\000\\000\\000\\000\\000\\000\\000\\000\\000\\000\\000\\000\\000\\000\\000\\000\\000\\000\\000\\000\\000\\000\\000\\000\\000\\000\\000\\000\\000\\000\\000\\000\\000\\000\\000\\000\\000\\000\\000\\000\\000\\000\\000\\000\\000\\000\\000\\000\\000\\000\\000\\000\\000\\000\\000\\000\\000\\000\\000\\000\\000\\000\\000\\000\\000\\000\\000\\000\\000\\000\\000\\000\\000\\000\\000\\000\\000\\000\\000\\000\\000\\000\\000\\000\\000\\000\\000\\000\\000\\000\\000\\000\\000\\000\\000\\000\\000\\000\\000\\000\\000\\000\\000\\000\\000\\000\\000\\000\\000\\000\\000\\000\\000\\000\\000\\000\\000\\000\\000\\000\\000\\000\\000\\000\\000\\000\\000\\000\\000\\000\\000\\000\\000\\000\\000\\000\\000\\000\\000\\000\\000\\000\\000\\000\\000\\000\\000\\000\\000\\000\\000\\000\\000T\\271\\237\\227<$\\000\\000\\000\\000\\000\\000\\000\\000\\000\\000\\000\\000\\000\\000\\000\\000\\000\\000\\000\\000\\000\\000\\336\\376\\376\\376\\376\\361\\306\\306\\306\\306\\306\\306\\306\\306\\2524\\000\\000\\000\\000\\000\\000\\000\\000\\000\\000\\000\\000CrHr\\243\\343\\376\\341\\376\\376\\376\\372\\345\\376\\376\\214\\000\\000\\000\\000\\000\\000\\000\\000\\000\\000\\000\\000\\000\\000\\000\\000\\000\\021B\\016CCC;\\025\\354\\376j\\000\\000\\000\\000\\000\\000\\000\\000\\000\\000\\000\\000\\000\\000\\000\\000\\000\\000\\000\\000\\000\\000\\000\\000S\\375\\321\\022\\000\\000\\000\\000\\000\\000\\000\\000\\000\\000\\000\\000\\000\\000\\000\\000\\000\\000\\000\\000\\000\\000\\000\\026\\351\\377S\\000\\000\\000\\000\\000\\000\\000\\000\\000\\000\\000\\000\\000\\000\\000\\000\\000\\000\\000\\000\\000\\000\\000\\000\\201\\376\\356,\\000\\000\\000\\000\\000\\000\\000\\000\\000\\000\\000\\000\\000\\000\\000\\000\\000\\000\\000\\000\\000\\000\\000;\\371\\376>\\000\\000\\000\\000\\000\\000\\000\\000\\000\\000\\000\\000\\000\\000\\000\\000\\000\\000\\000\\000\\000\\000\\000\\000\\205\\376\\273\\005\\000\\000\\000\\000\\000\\000\\000\\000\\000\\000\\000\\000\\000\\000\\000\\000\\000\\000\\000\\000\\000\\000\\000\\t\\315\\370:\\000\\000\\000\\000\\000\\000\\000\\000\\000\\000\\000\\000\\000\\000\\000\\000\\000\\000\\000\\000\\000\\000\\000\\000~\\376\\266\\000\\000\\000\\000\\000\\000\\000\\000\\000\\000\\000\\000\\000\\000\\000\\000\\000\\000\\000\\000\\000\\000\\000\\000K\\373\\3609\\000\\000\\000\\000\\000\\000\\000\\000\\000\\000\\000\\000\\000\\000\\000\\000\\000\\000\\000\\000\\000\\000\\000\\023\\335\\376\\246\\000\\000\\000\\000\\000\\000\\000\\000\\000\\000\\000\\000\\000\\000\\000\\000\\000\\000\\000\\000\\000\\000\\000\\003\\313\\376\\333#\\000\\000\\000\\000\\000\\000\\000\\000\\000\\000\\000\\000\\000\\000\\000\\000\\000\\000\\000\\000\\000\\000\\000&\\376\\376M\\000\\000\\000\\000\\000\\000\\000\\000\\000\\000\\000\\000\\000\\000\\000\\000\\000\\000\\000\\000\\000\\000\\000\\037\\340\\376s\\001\\000\\000\\000\\000\\000\\000\\000\\000\\000\\000\\000\\000\\000\\000\\000\\000\\000\\000\\000\\000\\000\\000\\000\\205\\376\\3764\\000\\000\\000\\000\\000\\000\\000\\000\\000\\000\\000\\000\\000\\000\\000\\000\\000\\000\\000\\000\\000\\000\\000=\\362\\376\\3764\\000\\000\\000\\000\\000\\000\\000\\000\\000\\000\\000\\000\\000\\000\\000\\000\\000\\000\\000\\000\\000\\000\\000y\\376\\376\\333(\\000\\000\\000\\000\\000\\000\\000\\000\\000\\000\\000\\000\\000\\000\\000\\000\\000\\000\\000\\000\\000\\000\\000y\\376\\317\\022\\000\\000\\000\\000\\000\\000\\000\\000\\000\\000\\000\\000\\000\\000\\000\\000\\000\\000\\000\\000\\000\\000\\000\\000\\000\\000\\000\\000\\000\\000\\000\\000\\000\\000\\000\\000\\000\\000\\000\\000\\000\\000\\000\\000\\000\\000\\000\\000\\000\\000\\000\\000\\000\\000\\000\\000\\000\\000\\000\\000\\000\\000\\000\\000\\000\\000\\000\\000\\000\\000\\000\\000\\000\\000\\000\\000\\000\\000\\000\\000\\000\\000\\000\\000\\000\\000\\000\\000\\000\\000\\000\\000\\000\\000\\000\\000\\000\\000\\000\\000\\000\\000\\000\\000\\000\\000\\000\\000\\000\\000\\000\\000\\000\\000\\000\\000\\000\\000\\000\\000\\000\\000\\000\\000\\000\\000\\000\\000\\000\\000\\000\\000\\000\\000\\000\\000t}\\253\\377\\377\\226]\\000\\000\\000\\000\\000\\000\\000\\000\\000\\000\\000\\000\\000\\000\\000\\000\\000\\000\\000\\000\\251\\375\\375\\375\\375\\375\\375\\332\\036\\000\\000\\000\\000\\000\\000\\000\\000\\000\\000\\000\\000\\000\\000\\000\\000\\000\\000\\251\\375\\375\\375\\325\\216\\260\\375\\375z\\000\\000\\000\\000\\000\\000\\000\\000\\000\\000\\000\\000\\000\\000\\000\\000\\0004\\372\\375\\322 \\014\\000\\006\\316\\375\\214\\000\\000\\000\\000\\000\\000\\000\\000\\000\\000\\000\\000\\000\\000\\000\\000\\000M\\373\\322\\031\\000\\000\\000z\\370\\375A\\000\\000\\000\\000\\000\\000\\000\\000\\000\\000\\000\\000\\000\\000\\000\\000\\000\\000\\037\\022\\000\\000\\000\\000\\321\\375\\375A\\000\\000\\000\\000\\000\\000\\000\\000\\000\\000\\000\\000\\000\\000\\000\\000\\000\\000\\000\\000\\000\\000\\000u\\367\\375\\306\\n\\000\\000\\000\\000\\000\\000\\000\\000\\000\\000\\000\\000\\000\\000\\000\\000\\000\\000\\000\\000\\000\\000L\\367\\375\\347?\\000\\000\\000\\000\\000\\000\\000\\000\\000\\000\\000\\000\\000\\000\\000\\000\\000\\000\\000\\000\\000\\000\\000\\200\\375\\375\\220\\000\\000\\000\\000\\000\\000\\000\\000\\000\\000\\000\\000\\000\\000\\000\\000\\000\\000\\000\\000\\000\\000\\000\\260\\366\\375\\237\\014\\000\\000\\000\\000\\000\\000\\000\\000\\000\\000\\000\\000\\000\\000\\000\\000\\000\\000\\000\\000\\000\\000\\031\\352\\375\\351#\\000\\000\\000\\000\\000\\000\\000\\000\\000\\000\\000\\000\\000\\000\\000\\000\\000\\000\\000\\000\\000\\000\\000\\306\\375\\375\\215\\000\\000\\000\\000\\000\\000\\000\\000\\000\\000\\000\\000\\000\\000\\000\\000\\000\\000\\000\\000\\000\\000\\000N\\370\\375\\275\\014\\000\\000\\000\\000\\000\\000\\000\\000\\000\\000\\000\\000\\000\\000\\000\\000\\000\\000\\000\\000\\000\\000\\023\\310\\375\\375\\215\\000\\000\\000\\000\\000\\000\\000\\000\\000\\000\\000\\000\\000\\000\\000\\000\\000\\000\\000\\000\\000\\000\\000\\206\\375\\375\\255\\014\\000\\000\\000\\000\\000\\000\\000\\000\\000\\000\\000\\000\\000\\000\\000\\000\\000\\000\\000\\000\\000\\000\\000\\370\\375\\375\\031\\000\\000\\000\\000\\000\\000\\000\\000\\000\\000\\000\\000\\000\\000\\000\\000\\000\\000\\000\\000\\000\\000\\000\\000\\370\\375\\375+\\024\\024\\024\\024\\005\\000\\005\\024\\024%\\226\\226\\226\\223\\n\\000\\000\\000\\000\\000\\000\\000\\000\\000\\370\\375\\375\\375\\375\\375\\375\\375\\250\\217\\246\\375\\375\\375\\375\\375\\375\\375{\\000\\000\\000\\000\\000\\000\\000\\000\\000\\256\\375\\375\\375\\375\\375\\375\\375\\375\\375\\375\\375\\371\\367\\367\\251uu9\\000\\000\\000\\000\\000\\000\\000\\000\\000\\000v{{{\\246\\375\\375\\375\\233{{)\\000\\000\\000\\000\\000\\000\\000\\000\\000\\000\\000\\000\\000\\000\\000\\000\\000\\000\\000\\000\\000\\000\\000\\000\\000\\000\\000\\000\\000\\000\\000\\000\\000\\000\\000\\000\\000\\000\\000\\000\\000\\000\\000\\000\\000\\000\\000\\000\\000\\000\\000\\000\\000\\000\\000\\000\\000\\000\\000\\000\\000\\000\\000\\000\\000\\000\\000\\000\\000\\000\\000\\000\\000\\000\\000\\000\\000\\000\\000\\000\\000\\000\\000\\000\\000\\000\\000\\000\\000\\000\\000\\000\\000\\000\\000\\000\\000\\000\\000\\000\\000\\000\\000\\000\\000\\000\\000\\000\\000\\000\\000\\000\\000\\000\\000\\000\\000\\000\\000\\000\\000\\000\\000\\000\\000\\000\\000\\000\\000\\000\\000\\000\\000\\000\\000\\000\\000\\000\\000\\000\\000\\000\\000\\000\\000\\000\\000\\000\\000\\000\\000\\000\\000\\000\\000\\000\\000\\000\\000\\000\\000\\000\\000\\000\\000\\000\\000\\000\\000\\000\\000\\000\\000\\000\\000\\000\\000\\000\\000\\000\\000\\000\\000\\000\\000\\000\\000\\000\\000\\000\\000\\000\\000\\000\\000\\000\\000\\000\\000\\000\\000\\000\\000\\000\\000\\000\\000\\000\\000\\000\\000\\000\\000\\000\\000\\000\\000\\000\\000\\000\\000\\000\\000\\000\\000\\000\\000\\000\\000\\000\\000\\000\\000\\000\\000\\000\\000\\000\\000\\000\\000\\000\\000\\000\\000\\000\\000\\000\\000\\000\\000\\000\\000\\000\\000\\000\\000\\000\\000\\000\\000\\000\\000\\000\\000\\000\\000\\000\\000\\000\\000\\000\\000\\000\\000&\\376m\\000\\000\\000\\000\\000\\000\\000\\000\\000\\000\\000\\000\\000\\000\\000\\000\\000\\000\\000\\000\\000\\000\\000\\000\\000W\\374R\\000\\000\\000\\000\\000\\000\\000\\000\\000\\000\\000\\000\\000\\000\\000\\000\\000\\000\\000\\000\\000\\000\\000\\000\\000\\207\\361\\000\\000\\000\\000\\000\\000\\000\\000\\000\\000\\000\\000\\000\\000\\000\\000\\000\\000\\000\\000\\000\\000\\000\\000\\000-\\364\\226\\000\\000\\000\\000\\000\\000\\000\\000\\000\\000\\000\\000\\000\\000\\000\\000\\000\\000\\000\\000\\000\\000\\000\\000\\000T\\376?\\000\\000\\000\\000\\000\\000\\000\\000\\000\\000\\000\\000\\000\\000\\000\\000\\000\\000\\000\\000\\000\\000\\000\\000\\000\\312\\337\\013\\000\\000\\000\\000\\000\\000\\000\\000\\000\\000\\000\\000\\000\\000\\000\\000\\000\\000\\000\\000\\000\\000\\000\\000 \\376\\330\\000\\000\\000\\000\\000\\000\\000\\000\\000\\000\\000\\000\\000\\000\\000\\000\\000\\000\\000\\000\\000\\000\\000\\000\\000_\\376\\303\\000\\000\\000\\000\\000\\000\\000\\000\\000\\000\\000\\000\\000\\000\\000\\000\\000\\000\\000\\000\\000\\000\\000\\000\\000\\214\\376M\\000\\000\\000\\000\\000\\000\\000\\000\\000\\000\\000\\000\\000\\000\\000\\000\\000\\000\\000\\000\\000\\000\\000\\0009\\355\\315\\010\\000\\000\\000\\000\\000\\000\\000\\000\\000\\000\\000\\000\\000\\000\\000\\000\\000\\000\\000\\000\\000\\000\\000\\000|\\377\\245\\000\\000\\000\\000\\000\\000\\000\\000\\000\\000\\000\\000\\000\\000\\000\\000\\000\\000\\000\\000\\000\\000\\000\\000\\000\\253\\376Q\\000\\000\\000\\000\\000\\000\\000\\000\\000\\000\\000\\000\\000\\000\\000\\000\\000\\000\\000\\000\\000\\000\\000\\000\\030\\350\\327\\000\\000\\000\\000\\000\\000\\000\\000\\000\\000\\000\\000\\000\\000\\000\\000\\000\\000\\000\\000\\000\\000\\000\\000\\000x\\376\\237\\000\\000\\000\\000\\000\\000\\000\\000\\000\\000\\000\\000\\000\\000\\000\\000\\000\\000\\000\\000\\000\\000\\000\\000\\000\\227\\376\\216\\000\\000\\000\\000\\000\\000\\000\\000\\000\\000\\000\\000\\000\\000\\000\\000\\000\\000\\000\\000\\000\\000\\000\\000\\000\\344\\376B\\000\\000\\000\\000\\000\\000\\000\\000\\000\\000\\000\\000\\000\\000\\000\\000\\000\\000\\000\\000\\000\\000\\000\\000=\\373\\376B\\000\\000\\000\\000\\000\\000\\000\\000\\000\\000\\000\\000\\000\\000\\000\\000\\000\\000\\000\\000\\000\\000\\000\\000\\215\\376\\315\\003\\000\\000\\000\\000\\000\\000\\000\\000\\000\\000\\000\\000\\000\\000\\000\\000\\000\\000\\000\\000\\000\\000\\000\\n\\327\\376y\\000\\000\\000\\000\\000\\000\\000\\000\\000\\000\\000\\000\\000\\000\\000\\000\\000\\000\\000\\000\\000\\000\\000\\000\\005\\306\\260\\n\\000\\000\\000\\000\\000\\000\\000\\000\\000\\000\\000\\000\\000\\000\\000\\000\\000\\000\\000\\000\\000\\000\\000\\000\\000\\000\\000\\000\\000\\000\\000\\000\\000\\000\\000\\000\\000\\000\\000\\000\\000\\000\\000\\000\\000\\000\\000\\000\\000\\000\\000\\000\\000\\000\\000\\000\\000\\000\\000\\000\\000\\000\\000\\000\\000\\000\\000\\000\\000\\000\\000\\000\\000\\000\\000\\000\\000\\000\\000\\000\\000\\000\\000\\000\\000\\000\\000\\000\\000\\000\\000\\000\\000\\000\\000\\000\\000\\000\\000\\000\\000\\000\\000\\000\\000\\000\\000\\000\\000\\000\\000\\000\\000\\000\\000\\000\\000\\000\\000\\000\\000\\000\\000\\000\\000\\000\"\n",
       "  }\n",
       "}"
      ]
     },
     "execution_count": 13,
     "metadata": {},
     "output_type": "execute_result"
    }
   ],
   "source": [
    "request"
   ]
  },
  {
   "cell_type": "code",
   "execution_count": 14,
   "id": "76c4f5bf-ee84-46fe-890f-d24e8139ff44",
   "metadata": {
    "scrolled": true
   },
   "outputs": [],
   "source": [
    "import grpc\n",
    "from tensorflow_serving.apis import prediction_service_pb2_grpc\n",
    "\n",
    "channel = grpc.insecure_channel('172.17.0.3:8500')\n",
    "predict_service = prediction_service_pb2_grpc.PredictionServiceStub(channel)\n",
    "response = predict_service.Predict(request, timeout=10.0)"
   ]
  },
  {
   "cell_type": "markdown",
   "id": "aaa9b0e9-7982-4176-aadf-7c4334c6fe23",
   "metadata": {
    "id": "_a-7lekeVFyL"
   },
   "source": [
    "응답을 텐서로 변환한다:"
   ]
  },
  {
   "cell_type": "code",
   "execution_count": 15,
   "id": "88e076ab-7ae0-45b1-8e98-a9c8fff4af45",
   "metadata": {
    "scrolled": true
   },
   "outputs": [],
   "source": [
    "output_name = 'output_0'\n",
    "outputs_proto = response.outputs[output_name]\n",
    "y_proba = tf.make_ndarray(outputs_proto)"
   ]
  },
  {
   "cell_type": "code",
   "execution_count": 16,
   "id": "81bdad44-b04b-4176-86ac-f867cc053dc6",
   "metadata": {
    "scrolled": true
   },
   "outputs": [
    {
     "data": {
      "text/plain": [
       "array([[0.  , 0.  , 0.  , 0.  , 0.  , 0.  , 0.  , 0.99, 0.  , 0.  ],\n",
       "       [0.  , 0.  , 0.97, 0.02, 0.  , 0.  , 0.01, 0.  , 0.  , 0.  ],\n",
       "       [0.  , 0.98, 0.01, 0.  , 0.  , 0.  , 0.  , 0.01, 0.  , 0.  ]],\n",
       "      dtype=float32)"
      ]
     },
     "execution_count": 16,
     "metadata": {},
     "output_type": "execute_result"
    }
   ],
   "source": [
    "y_proba.round(2)"
   ]
  },
  {
   "cell_type": "markdown",
   "id": "d22a5ccf-50bb-4eed-9b28-d676ac0d323b",
   "metadata": {
    "id": "MhgWRCnFVFyM"
   },
   "source": [
    "### 새 모델 버전 배포"
   ]
  },
  {
   "cell_type": "code",
   "execution_count": 17,
   "id": "4c9e0f31-2bdd-447e-96aa-96ff87812019",
   "metadata": {
    "scrolled": true
   },
   "outputs": [
    {
     "name": "stdout",
     "output_type": "stream",
     "text": [
      "Epoch 1/10\n"
     ]
    },
    {
     "name": "stderr",
     "output_type": "stream",
     "text": [
      "2025-08-18 02:45:29.992254: I external/local_xla/xla/stream_executor/cuda/subprocess_compilation.cc:346] ptxas warning : Registers are spilled to local memory in function 'gemm_fusion_dot_38', 272 bytes spill stores, 272 bytes spill loads\n",
      "\n",
      "2025-08-18 02:45:30.428816: I external/local_xla/xla/stream_executor/cuda/subprocess_compilation.cc:346] ptxas warning : Registers are spilled to local memory in function 'gemm_fusion_dot_38', 944 bytes spill stores, 944 bytes spill loads\n",
      "\n",
      "2025-08-18 02:45:30.580719: I external/local_xla/xla/stream_executor/cuda/subprocess_compilation.cc:346] ptxas warning : Registers are spilled to local memory in function 'gemm_fusion_dot_38', 940 bytes spill stores, 940 bytes spill loads\n",
      "\n",
      "2025-08-18 02:45:30.657226: I external/local_xla/xla/stream_executor/cuda/subprocess_compilation.cc:346] ptxas warning : Registers are spilled to local memory in function 'gemm_fusion_dot_38', 1180 bytes spill stores, 1240 bytes spill loads\n",
      "\n",
      "2025-08-18 02:45:31.300613: I external/local_xla/xla/stream_executor/cuda/subprocess_compilation.cc:346] ptxas warning : Registers are spilled to local memory in function 'gemm_fusion_dot_38', 488 bytes spill stores, 488 bytes spill loads\n",
      "\n",
      "2025-08-18 02:45:31.384009: I external/local_xla/xla/stream_executor/cuda/subprocess_compilation.cc:346] ptxas warning : Registers are spilled to local memory in function 'gemm_fusion_dot_194', 48 bytes spill stores, 48 bytes spill loads\n",
      "\n"
     ]
    },
    {
     "name": "stdout",
     "output_type": "stream",
     "text": [
      "\u001b[1m1713/1719\u001b[0m \u001b[32m━━━━━━━━━━━━━━━━━━━\u001b[0m\u001b[37m━\u001b[0m \u001b[1m0s\u001b[0m 2ms/step - accuracy: 0.6068 - loss: 1.2931"
     ]
    },
    {
     "name": "stderr",
     "output_type": "stream",
     "text": [
      "2025-08-18 02:45:36.870446: I external/local_xla/xla/stream_executor/cuda/subprocess_compilation.cc:346] ptxas warning : Registers are spilled to local memory in function 'gemm_fusion_dot_38', 272 bytes spill stores, 272 bytes spill loads\n",
      "\n",
      "2025-08-18 02:45:37.203220: I external/local_xla/xla/stream_executor/cuda/subprocess_compilation.cc:346] ptxas warning : Registers are spilled to local memory in function 'gemm_fusion_dot_38', 944 bytes spill stores, 944 bytes spill loads\n",
      "\n",
      "2025-08-18 02:45:37.240944: I external/local_xla/xla/stream_executor/cuda/subprocess_compilation.cc:346] ptxas warning : Registers are spilled to local memory in function 'gemm_fusion_dot_38', 988 bytes spill stores, 988 bytes spill loads\n",
      "\n",
      "2025-08-18 02:45:37.389117: I external/local_xla/xla/stream_executor/cuda/subprocess_compilation.cc:346] ptxas warning : Registers are spilled to local memory in function 'gemm_fusion_dot_38', 956 bytes spill stores, 956 bytes spill loads\n",
      "\n",
      "2025-08-18 02:45:37.445854: I external/local_xla/xla/stream_executor/cuda/subprocess_compilation.cc:346] ptxas warning : Registers are spilled to local memory in function 'gemm_fusion_dot_38', 484 bytes spill stores, 484 bytes spill loads\n",
      "\n",
      "2025-08-18 02:45:38.157908: I external/local_xla/xla/stream_executor/cuda/subprocess_compilation.cc:346] ptxas warning : Registers are spilled to local memory in function 'gemm_fusion_dot_194', 48 bytes spill stores, 48 bytes spill loads\n",
      "\n"
     ]
    },
    {
     "name": "stdout",
     "output_type": "stream",
     "text": [
      "\u001b[1m1719/1719\u001b[0m \u001b[32m━━━━━━━━━━━━━━━━━━━━\u001b[0m\u001b[37m\u001b[0m \u001b[1m0s\u001b[0m 4ms/step - accuracy: 0.6074 - loss: 1.2913"
     ]
    },
    {
     "name": "stderr",
     "output_type": "stream",
     "text": [
      "2025-08-18 02:45:40.760795: I external/local_xla/xla/stream_executor/cuda/subprocess_compilation.cc:346] ptxas warning : Registers are spilled to local memory in function 'gemm_fusion_dot_36', 272 bytes spill stores, 272 bytes spill loads\n",
      "\n",
      "2025-08-18 02:45:40.787464: I external/local_xla/xla/stream_executor/cuda/subprocess_compilation.cc:346] ptxas warning : Registers are spilled to local memory in function 'gemm_fusion_dot_36', 348 bytes spill stores, 348 bytes spill loads\n",
      "\n",
      "2025-08-18 02:45:40.981013: I external/local_xla/xla/stream_executor/cuda/subprocess_compilation.cc:346] ptxas warning : Registers are spilled to local memory in function 'gemm_fusion_dot_36', 816 bytes spill stores, 816 bytes spill loads\n",
      "\n",
      "2025-08-18 02:45:41.049617: I external/local_xla/xla/stream_executor/cuda/subprocess_compilation.cc:346] ptxas warning : Registers are spilled to local memory in function 'gemm_fusion_dot_36', 272 bytes spill stores, 272 bytes spill loads\n",
      "\n"
     ]
    },
    {
     "name": "stdout",
     "output_type": "stream",
     "text": [
      "\u001b[1m1719/1719\u001b[0m \u001b[32m━━━━━━━━━━━━━━━━━━━━\u001b[0m\u001b[37m\u001b[0m \u001b[1m12s\u001b[0m 5ms/step - accuracy: 0.6075 - loss: 1.2910 - val_accuracy: 0.8984 - val_loss: 0.3651\n",
      "Epoch 2/10\n",
      "\u001b[1m1719/1719\u001b[0m \u001b[32m━━━━━━━━━━━━━━━━━━━━\u001b[0m\u001b[37m\u001b[0m \u001b[1m4s\u001b[0m 2ms/step - accuracy: 0.8977 - loss: 0.3541 - val_accuracy: 0.9212 - val_loss: 0.2833\n",
      "Epoch 3/10\n",
      "\u001b[1m1719/1719\u001b[0m \u001b[32m━━━━━━━━━━━━━━━━━━━━\u001b[0m\u001b[37m\u001b[0m \u001b[1m4s\u001b[0m 2ms/step - accuracy: 0.9184 - loss: 0.2856 - val_accuracy: 0.9344 - val_loss: 0.2424\n",
      "Epoch 4/10\n",
      "\u001b[1m1719/1719\u001b[0m \u001b[32m━━━━━━━━━━━━━━━━━━━━\u001b[0m\u001b[37m\u001b[0m \u001b[1m5s\u001b[0m 3ms/step - accuracy: 0.9274 - loss: 0.2532 - val_accuracy: 0.9402 - val_loss: 0.2178\n",
      "Epoch 5/10\n",
      "\u001b[1m1719/1719\u001b[0m \u001b[32m━━━━━━━━━━━━━━━━━━━━\u001b[0m\u001b[37m\u001b[0m \u001b[1m4s\u001b[0m 2ms/step - accuracy: 0.9355 - loss: 0.2240 - val_accuracy: 0.9438 - val_loss: 0.1948\n",
      "Epoch 6/10\n",
      "\u001b[1m1719/1719\u001b[0m \u001b[32m━━━━━━━━━━━━━━━━━━━━\u001b[0m\u001b[37m\u001b[0m \u001b[1m4s\u001b[0m 2ms/step - accuracy: 0.9436 - loss: 0.1988 - val_accuracy: 0.9496 - val_loss: 0.1767\n",
      "Epoch 7/10\n",
      "\u001b[1m1719/1719\u001b[0m \u001b[32m━━━━━━━━━━━━━━━━━━━━\u001b[0m\u001b[37m\u001b[0m \u001b[1m4s\u001b[0m 2ms/step - accuracy: 0.9478 - loss: 0.1821 - val_accuracy: 0.9516 - val_loss: 0.1662\n",
      "Epoch 8/10\n",
      "\u001b[1m1719/1719\u001b[0m \u001b[32m━━━━━━━━━━━━━━━━━━━━\u001b[0m\u001b[37m\u001b[0m \u001b[1m4s\u001b[0m 2ms/step - accuracy: 0.9536 - loss: 0.1683 - val_accuracy: 0.9564 - val_loss: 0.1554\n",
      "Epoch 9/10\n",
      "\u001b[1m1719/1719\u001b[0m \u001b[32m━━━━━━━━━━━━━━━━━━━━\u001b[0m\u001b[37m\u001b[0m \u001b[1m4s\u001b[0m 2ms/step - accuracy: 0.9556 - loss: 0.1569 - val_accuracy: 0.9588 - val_loss: 0.1468\n",
      "Epoch 10/10\n",
      "\u001b[1m1719/1719\u001b[0m \u001b[32m━━━━━━━━━━━━━━━━━━━━\u001b[0m\u001b[37m\u001b[0m \u001b[1m4s\u001b[0m 2ms/step - accuracy: 0.9589 - loss: 0.1450 - val_accuracy: 0.9578 - val_loss: 0.1425\n"
     ]
    },
    {
     "data": {
      "text/plain": [
       "<keras.src.callbacks.history.History at 0x7baedb99e790>"
      ]
     },
     "execution_count": 17,
     "metadata": {},
     "output_type": "execute_result"
    }
   ],
   "source": [
    "# 새로운 MNIST 모델 버전 빌드 및 훈련\n",
    "model = keras.Sequential()\n",
    "model.add(keras.Input((28, 28), dtype=tf.uint8))\n",
    "model.add(layers.Flatten())\n",
    "model.add(layers.Rescaling(1 / 255))\n",
    "model.add(layers.Dense(50, activation='relu'))\n",
    "model.add(layers.Dense(50, activation='relu'))\n",
    "model.add(layers.Dense(10, activation='softmax'))\n",
    "model.compile(optimizer='SGD', loss='sparse_categorical_crossentropy', metrics=['accuracy'])\n",
    "model.fit(X_train, y_train, epochs=10, validation_data=(X_valid, y_valid))"
   ]
  },
  {
   "cell_type": "code",
   "execution_count": 18,
   "id": "6d9fe824-534b-4ccf-8d3e-8809eaabfec2",
   "metadata": {
    "scrolled": true
   },
   "outputs": [
    {
     "name": "stdout",
     "output_type": "stream",
     "text": [
      "INFO:tensorflow:Assets written to: my_mnist_model/0002/assets\n"
     ]
    },
    {
     "name": "stderr",
     "output_type": "stream",
     "text": [
      "INFO:tensorflow:Assets written to: my_mnist_model/0002/assets\n"
     ]
    },
    {
     "name": "stdout",
     "output_type": "stream",
     "text": [
      "Saved artifact at 'my_mnist_model/0002'. The following endpoints are available:\n",
      "\n",
      "* Endpoint 'serve'\n",
      "  args_0 (POSITIONAL_ONLY): TensorSpec(shape=(None, 28, 28), dtype=tf.uint8, name='keras_tensor_11')\n",
      "Output Type:\n",
      "  TensorSpec(shape=(None, 10), dtype=tf.float32, name=None)\n",
      "Captures:\n",
      "  135991298675472: TensorSpec(shape=(), dtype=tf.resource, name=None)\n",
      "  135991298679120: TensorSpec(shape=(), dtype=tf.resource, name=None)\n",
      "  135991298682384: TensorSpec(shape=(), dtype=tf.resource, name=None)\n",
      "  135991298685264: TensorSpec(shape=(), dtype=tf.resource, name=None)\n",
      "  135991298684112: TensorSpec(shape=(), dtype=tf.resource, name=None)\n",
      "  135991298674512: TensorSpec(shape=(), dtype=tf.resource, name=None)\n"
     ]
    }
   ],
   "source": [
    "model_version = '0002'\n",
    "model_path = Path(model_name) / model_version\n",
    "model.export(model_path)"
   ]
  },
  {
   "cell_type": "code",
   "execution_count": 19,
   "id": "4f66c7c8-2a7e-44f7-b2b4-35466f690b1b",
   "metadata": {
    "scrolled": true
   },
   "outputs": [
    {
     "data": {
      "text/plain": [
       "['my_mnist_model/0001',\n",
       " 'my_mnist_model/0001/assets',\n",
       " 'my_mnist_model/0001/fingerprint.pb',\n",
       " 'my_mnist_model/0001/saved_model.pb',\n",
       " 'my_mnist_model/0001/variables',\n",
       " 'my_mnist_model/0001/variables/variables.data-00000-of-00001',\n",
       " 'my_mnist_model/0001/variables/variables.index',\n",
       " 'my_mnist_model/0002',\n",
       " 'my_mnist_model/0002/assets',\n",
       " 'my_mnist_model/0002/fingerprint.pb',\n",
       " 'my_mnist_model/0002/saved_model.pb',\n",
       " 'my_mnist_model/0002/variables',\n",
       " 'my_mnist_model/0002/variables/variables.data-00000-of-00001',\n",
       " 'my_mnist_model/0002/variables/variables.index']"
      ]
     },
     "execution_count": 19,
     "metadata": {},
     "output_type": "execute_result"
    }
   ],
   "source": [
    "sorted([str(path) for path in model_path.parent.glob('**/*')])"
   ]
  },
  {
   "cell_type": "markdown",
   "id": "7b3f2312-ea70-4614-b6f8-b0768ea9afe1",
   "metadata": {
    "id": "S31FFXYGVFyM"
   },
   "source": [
    "**경고**: 텐서플로 서빙이 새 모델을 로드하기까지 잠시 기다려야 할 수 있다."
   ]
  },
  {
   "cell_type": "code",
   "execution_count": 20,
   "id": "cdf01af0-3cc5-49f6-81c8-c5b9a67052c7",
   "metadata": {
    "scrolled": true
   },
   "outputs": [],
   "source": [
    "server_url = 'http://172.17.0.3:8501/v1/models/my_mnist_model:predict'\n",
    "response = requests.post(server_url, request_json)\n",
    "response.raise_for_status()\n",
    "response = response.json()"
   ]
  },
  {
   "cell_type": "code",
   "execution_count": 21,
   "id": "e71bb055-45eb-44fa-940f-a818bf10a8a3",
   "metadata": {
    "scrolled": true
   },
   "outputs": [
    {
     "data": {
      "text/plain": [
       "dict_keys(['predictions'])"
      ]
     },
     "execution_count": 21,
     "metadata": {},
     "output_type": "execute_result"
    }
   ],
   "source": [
    "response.keys()"
   ]
  },
  {
   "cell_type": "code",
   "execution_count": 22,
   "id": "b9be5031-71a9-44a2-945f-f2f2a5369941",
   "metadata": {
    "scrolled": true
   },
   "outputs": [
    {
     "data": {
      "text/plain": [
       "array([[0.  , 0.  , 0.  , 0.  , 0.  , 0.  , 0.  , 0.99, 0.  , 0.  ],\n",
       "       [0.  , 0.  , 0.97, 0.02, 0.  , 0.  , 0.01, 0.  , 0.  , 0.  ],\n",
       "       [0.  , 0.98, 0.01, 0.  , 0.  , 0.  , 0.  , 0.01, 0.  , 0.  ]])"
      ]
     },
     "execution_count": 22,
     "metadata": {},
     "output_type": "execute_result"
    }
   ],
   "source": [
    "y_proba = np.array(response['predictions'])\n",
    "y_proba.round(2)"
   ]
  },
  {
   "cell_type": "markdown",
   "id": "f2dc9ce0-b366-4bd5-b62a-fa5aa8e8c234",
   "metadata": {
    "id": "8aWy9ECgVFyQ"
   },
   "source": [
    "# 모바일 또는 임베디드 디바이스에 모델 배포하기"
   ]
  },
  {
   "cell_type": "code",
   "execution_count": 23,
   "id": "7b1f58ef-9a06-4d10-9ed0-22983a58b254",
   "metadata": {
    "id": "N-O3Sc0DVFyQ",
    "outputId": "faad2986-11a2-4b74-cb56-da7700ad00f0",
    "scrolled": true
   },
   "outputs": [
    {
     "name": "stderr",
     "output_type": "stream",
     "text": [
      "W0000 00:00:1755485182.547978    1918 tf_tfl_flatbuffer_helpers.cc:365] Ignored output_format.\n",
      "W0000 00:00:1755485182.548013    1918 tf_tfl_flatbuffer_helpers.cc:368] Ignored drop_control_dependency.\n",
      "2025-08-18 02:46:22.551550: I tensorflow/cc/saved_model/reader.cc:83] Reading SavedModel from: my_mnist_model/0002\n",
      "2025-08-18 02:46:22.554622: I tensorflow/cc/saved_model/reader.cc:52] Reading meta graph with tags { serve }\n",
      "2025-08-18 02:46:22.554634: I tensorflow/cc/saved_model/reader.cc:147] Reading SavedModel debug info (if present) from: my_mnist_model/0002\n",
      "I0000 00:00:1755485182.558779    1918 mlir_graph_optimization_pass.cc:425] MLIR V1 optimization pass is not enabled\n",
      "2025-08-18 02:46:22.559443: I tensorflow/cc/saved_model/loader.cc:236] Restoring SavedModel bundle.\n",
      "2025-08-18 02:46:22.584923: I tensorflow/cc/saved_model/loader.cc:220] Running initialization op on SavedModel bundle at path: my_mnist_model/0002\n",
      "2025-08-18 02:46:22.589875: I tensorflow/cc/saved_model/loader.cc:471] SavedModel load for tags { serve }; Status: success: OK. Took 38330 microseconds.\n"
     ]
    }
   ],
   "source": [
    "from tensorflow import lite\n",
    "\n",
    "converter = lite.TFLiteConverter.from_saved_model(str(model_path))\n",
    "tflite_model = converter.convert()\n",
    "with open('my_converted_savedmodel.tflite', 'wb') as f:\n",
    "    f.write(tflite_model)"
   ]
  },
  {
   "cell_type": "code",
   "execution_count": 24,
   "id": "072d43a1-342b-4db7-a710-36f3bc0cd299",
   "metadata": {
    "scrolled": true
   },
   "outputs": [],
   "source": [
    "# 케라스 모델을 변환한다.\n",
    "converter = lite.TFLiteConverter.from_keras_model(model)"
   ]
  },
  {
   "cell_type": "code",
   "execution_count": 25,
   "id": "004f03ef-f673-41d7-89df-abffe1f4d4db",
   "metadata": {
    "scrolled": true
   },
   "outputs": [],
   "source": [
    "converter.optimizations = [lite.Optimize.DEFAULT]"
   ]
  },
  {
   "cell_type": "code",
   "execution_count": 26,
   "id": "b948b09d-8fc7-42a3-9df6-e8b2f291e7d4",
   "metadata": {
    "scrolled": true
   },
   "outputs": [
    {
     "name": "stdout",
     "output_type": "stream",
     "text": [
      "INFO:tensorflow:Assets written to: /tmp/tmpx8p9dgp3/assets\n"
     ]
    },
    {
     "name": "stderr",
     "output_type": "stream",
     "text": [
      "INFO:tensorflow:Assets written to: /tmp/tmpx8p9dgp3/assets\n"
     ]
    },
    {
     "name": "stdout",
     "output_type": "stream",
     "text": [
      "Saved artifact at '/tmp/tmpx8p9dgp3'. The following endpoints are available:\n",
      "\n",
      "* Endpoint 'serve'\n",
      "  args_0 (POSITIONAL_ONLY): TensorSpec(shape=(None, 28, 28), dtype=tf.uint8, name='keras_tensor_11')\n",
      "Output Type:\n",
      "  TensorSpec(shape=(None, 10), dtype=tf.float32, name=None)\n",
      "Captures:\n",
      "  135991298675472: TensorSpec(shape=(), dtype=tf.resource, name=None)\n",
      "  135991298679120: TensorSpec(shape=(), dtype=tf.resource, name=None)\n",
      "  135991298682384: TensorSpec(shape=(), dtype=tf.resource, name=None)\n",
      "  135991298685264: TensorSpec(shape=(), dtype=tf.resource, name=None)\n",
      "  135991298684112: TensorSpec(shape=(), dtype=tf.resource, name=None)\n",
      "  135991298674512: TensorSpec(shape=(), dtype=tf.resource, name=None)\n"
     ]
    },
    {
     "name": "stderr",
     "output_type": "stream",
     "text": [
      "W0000 00:00:1755485182.882199    1918 tf_tfl_flatbuffer_helpers.cc:365] Ignored output_format.\n",
      "W0000 00:00:1755485182.882241    1918 tf_tfl_flatbuffer_helpers.cc:368] Ignored drop_control_dependency.\n",
      "2025-08-18 02:46:22.882368: I tensorflow/cc/saved_model/reader.cc:83] Reading SavedModel from: /tmp/tmpx8p9dgp3\n",
      "2025-08-18 02:46:22.882745: I tensorflow/cc/saved_model/reader.cc:52] Reading meta graph with tags { serve }\n",
      "2025-08-18 02:46:22.882751: I tensorflow/cc/saved_model/reader.cc:147] Reading SavedModel debug info (if present) from: /tmp/tmpx8p9dgp3\n",
      "2025-08-18 02:46:22.885286: I tensorflow/cc/saved_model/loader.cc:236] Restoring SavedModel bundle.\n",
      "2025-08-18 02:46:22.899809: I tensorflow/cc/saved_model/loader.cc:220] Running initialization op on SavedModel bundle at path: /tmp/tmpx8p9dgp3\n",
      "2025-08-18 02:46:22.904604: I tensorflow/cc/saved_model/loader.cc:471] SavedModel load for tags { serve }; Status: success: OK. Took 22239 microseconds.\n"
     ]
    }
   ],
   "source": [
    "tflite_model = converter.convert()\n",
    "with open('my_converted_keras_model.tflite', 'wb') as f:\n",
    "    f.write(tflite_model)"
   ]
  },
  {
   "cell_type": "markdown",
   "id": "589267a9-3fd1-444a-9c03-5e8d3a58b2ef",
   "metadata": {
    "id": "Y4VfgmwVVFyR"
   },
   "source": [
    "# GPU를 사용하여 계산 속도 향상하기"
   ]
  },
  {
   "cell_type": "markdown",
   "id": "0eb9c72f-e270-42c6-b4eb-bb196d91f165",
   "metadata": {
    "id": "pWEx4a31VFyR"
   },
   "source": [
    "텐서플로우가 GPU를 볼 수 있는지 확인한다:"
   ]
  },
  {
   "cell_type": "code",
   "execution_count": 27,
   "id": "23058587-b68e-4cb1-9e07-16ec4e185f39",
   "metadata": {
    "id": "xVJNYyroVFyR",
    "outputId": "e5daa069-3b41-49cd-dee2-efbbf0a42d50",
    "scrolled": true
   },
   "outputs": [
    {
     "data": {
      "text/plain": [
       "[PhysicalDevice(name='/physical_device:GPU:0', device_type='GPU')]"
      ]
     },
     "execution_count": 27,
     "metadata": {},
     "output_type": "execute_result"
    }
   ],
   "source": [
    "physical_gpus = config.list_physical_devices('GPU')\n",
    "physical_gpus"
   ]
  },
  {
   "cell_type": "markdown",
   "id": "cd909e6c-65b4-4896-9d0c-a2d124590b9a",
   "metadata": {
    "id": "h20yT_y6VFyR"
   },
   "source": [
    "텐서플로 스크립트에서 GPU \\#0과 \\#1(PCI 순서 기준)만 사용하려면 스크립트를 시작하기 전에 환경 변수 `CUDA_DEVICE_ORDER=PCI_BUS_ID`와 `CUDA_VISIBLE_DEVICES=0,1`을 설정한다. 또는 스크립트 자체에서 텐서플로를 사용하기 전에 지정한다."
   ]
  },
  {
   "cell_type": "markdown",
   "id": "e1e6a78b-5fed-4c9b-a32d-93acbf3e5da5",
   "metadata": {
    "id": "_zNPhsERVFyS"
   },
   "source": [
    "## GPU RAM 관리"
   ]
  },
  {
   "cell_type": "markdown",
   "id": "54ae7b96-e875-42bc-8da4-f5f6c357fb01",
   "metadata": {
    "id": "HItL_tIeVFyS"
   },
   "source": [
    "RAM 용량을 GPU당 2GB로 제한하려면:"
   ]
  },
  {
   "cell_type": "code",
   "execution_count": 28,
   "id": "06882804-b29a-4ce6-bf5d-1e75a442fef0",
   "metadata": {
    "id": "ByepjvQaVFyS",
    "scrolled": true
   },
   "outputs": [],
   "source": [
    "# for gpu in physical_gpus:\n",
    "#     config.set_logical_device_configuration(gpu, [config.LogicalDeviceConfiguration(2048)])"
   ]
  },
  {
   "cell_type": "markdown",
   "id": "6fda924e-d313-4f60-8d8f-42174b568bc6",
   "metadata": {
    "id": "cKiDo2ciVFyS"
   },
   "source": [
    "점진적으로 텐서플로가 메모리를 점유하도록 하려면(프로세스가 종료될 때만 메모리를 해제한다):"
   ]
  },
  {
   "cell_type": "code",
   "execution_count": 29,
   "id": "2c84b001-01c5-4d0e-b2a9-f12d07e08979",
   "metadata": {
    "scrolled": true
   },
   "outputs": [],
   "source": [
    "# from tensorflow.config import experimental\n",
    "\n",
    "# for gpu in physical_gpus:\n",
    "#     experimental.set_memory_growth(gpu, True)"
   ]
  },
  {
   "cell_type": "markdown",
   "id": "4a755ab8-e0a3-45b8-9001-be95c738457d",
   "metadata": {
    "id": "Az0uZINuVFyS"
   },
   "source": [
    "이와 동일하게, 텐서플로를 사용하기 전에 `TF_FORCE_GPU_ALLOW_GROWTH` 환경 변수를 `true`로 설정할 수 있다."
   ]
  },
  {
   "cell_type": "markdown",
   "id": "4d4fdcf0-9321-4198-951e-e7f761acc159",
   "metadata": {
    "id": "qU0QW2dEVFyS"
   },
   "source": [
    "물리적 GPU를 두 개의 논리적 GPU로 분할한다:"
   ]
  },
  {
   "cell_type": "code",
   "execution_count": 30,
   "id": "9b63962f-0a86-4130-a716-bdaac5b81efd",
   "metadata": {
    "scrolled": true
   },
   "outputs": [],
   "source": [
    "# config.set_logical_device_configuration(\n",
    "#     physical_gpus[0], [config.LogicalDeviceConfiguration(2048), config.LogicalDeviceConfiguration(2048)]\n",
    "# )"
   ]
  },
  {
   "cell_type": "code",
   "execution_count": 31,
   "id": "00e3d58b-9c34-45ee-8975-1d9d0d300560",
   "metadata": {
    "scrolled": true
   },
   "outputs": [
    {
     "data": {
      "text/plain": [
       "[LogicalDevice(name='/device:GPU:0', device_type='GPU')]"
      ]
     },
     "execution_count": 31,
     "metadata": {},
     "output_type": "execute_result"
    }
   ],
   "source": [
    "logical_gpus = config.list_logical_devices('GPU')\n",
    "logical_gpus"
   ]
  },
  {
   "cell_type": "markdown",
   "id": "53776656-f9bc-4d01-84ba-03cede9399a6",
   "metadata": {
    "id": "dHhdR7oKVFyT"
   },
   "source": [
    "## 디바이스에 연산 및 변수 배치하기"
   ]
  },
  {
   "cell_type": "markdown",
   "id": "aca76fce-eb77-4f07-a54b-bb498a18e55c",
   "metadata": {
    "id": "IW9RswfNVFyT"
   },
   "source": [
    "모든 변수 및 연산 배치를 기록하려면(이 작업은 텐서플로를 임포팅한 직후에 실행해야 한다):"
   ]
  },
  {
   "cell_type": "code",
   "execution_count": 32,
   "id": "573e0e44-ca0c-4db9-9d7b-5dc14e445cc6",
   "metadata": {
    "scrolled": true
   },
   "outputs": [],
   "source": [
    "from tensorflow import debugging\n",
    "\n",
    "tf.get_logger().setLevel(\"DEBUG\")  # 디폴트 로그 수준은 INFO다.\n",
    "debugging.set_log_device_placement(True)"
   ]
  },
  {
   "cell_type": "code",
   "execution_count": 33,
   "id": "07cd9706-cd2c-430e-882c-1c14de283fcc",
   "metadata": {
    "scrolled": true
   },
   "outputs": [
    {
     "data": {
      "text/plain": [
       "'/job:localhost/replica:0/task:0/device:GPU:0'"
      ]
     },
     "execution_count": 33,
     "metadata": {},
     "output_type": "execute_result"
    }
   ],
   "source": [
    "a = tf.Variable([1., 2., 3.])  # float32 변수는 GPU로 이동한다.\n",
    "a.device"
   ]
  },
  {
   "cell_type": "code",
   "execution_count": 34,
   "id": "6d7310da-6336-4efa-a8b7-50c909d5605f",
   "metadata": {
    "scrolled": true
   },
   "outputs": [
    {
     "data": {
      "text/plain": [
       "'/job:localhost/replica:0/task:0/device:CPU:0'"
      ]
     },
     "execution_count": 34,
     "metadata": {},
     "output_type": "execute_result"
    }
   ],
   "source": [
    "b = tf.Variable([1, 2, 3])  # int32 변수는 CPU로 이동한다.\n",
    "b.device"
   ]
  },
  {
   "cell_type": "markdown",
   "id": "584c1090-bc98-4782-9260-6496f5f86d76",
   "metadata": {
    "id": "CVMtpGUTVFyU"
   },
   "source": [
    "`tf.device()` 컨텍스트를 사용하여 원하는 장치에 변수 및 연산을 수동으로 배치할 수 있다:"
   ]
  },
  {
   "cell_type": "code",
   "execution_count": 35,
   "id": "f03f77de-6201-4d8b-84e3-3015eba30cea",
   "metadata": {
    "scrolled": true
   },
   "outputs": [
    {
     "data": {
      "text/plain": [
       "'/job:localhost/replica:0/task:0/device:CPU:0'"
      ]
     },
     "execution_count": 35,
     "metadata": {},
     "output_type": "execute_result"
    }
   ],
   "source": [
    "with tf.device('/cpu:0'):\n",
    "    c = tf.Variable([1., 2., 3.])\n",
    "c.device"
   ]
  },
  {
   "cell_type": "markdown",
   "id": "27da4192-62b2-423c-88ae-75c08cca1e6f",
   "metadata": {
    "id": "3kFjB8ByVFyU"
   },
   "source": [
    "존재하지 않거나 커널이 없는 장치를 지정하면 텐서플로는 자동으로 기본 장치를 사용한다:"
   ]
  },
  {
   "cell_type": "code",
   "execution_count": 36,
   "id": "f0b8d3ad-bfc8-41e7-b149-b59a3a720b83",
   "metadata": {
    "scrolled": true
   },
   "outputs": [
    {
     "data": {
      "text/plain": [
       "'/job:localhost/replica:0/task:0/device:GPU:0'"
      ]
     },
     "execution_count": 36,
     "metadata": {},
     "output_type": "execute_result"
    }
   ],
   "source": [
    "with tf.device('/gpu:1234'):\n",
    "    d = tf.Variable([1., 2., 3.])\n",
    "d.device"
   ]
  },
  {
   "cell_type": "markdown",
   "id": "5db79217-3d2a-4ff8-be96-567f5113a3c7",
   "metadata": {
    "id": "gikk9azaVFyU"
   },
   "source": [
    "텐서플로에서 존재하지 않는 장치를 사용하려고 할 때 기본 장치로 되돌아가지 않고 예외를 발생시키려면:"
   ]
  },
  {
   "cell_type": "code",
   "execution_count": 37,
   "id": "9a3bb84e-1066-4e17-b397-b2233270fbed",
   "metadata": {
    "scrolled": true
   },
   "outputs": [
    {
     "name": "stdout",
     "output_type": "stream",
     "text": [
      "Could not satisfy device specification '/job:localhost/replica:0/task:0/device:GPU:1000'. enable_soft_placement=0. Supported device types [GPU, CPU]. All available devices [/job:localhost/replica:0/task:0/device:GPU:0, /job:localhost/replica:0/task:0/device:CPU:0].\n"
     ]
    }
   ],
   "source": [
    "from tensorflow import errors\n",
    "\n",
    "config.set_soft_device_placement(False)\n",
    "try:\n",
    "    with tf.device('/gpu:1000'):\n",
    "        d = tf.Variable([1., 2., 3.])\n",
    "except errors.InvalidArgumentError as ex:\n",
    "    print(ex)\n",
    "config.set_soft_device_placement(True)  # 소프트 배치로 돌아가기"
   ]
  },
  {
   "cell_type": "markdown",
   "id": "c73129f1-375c-4117-bc25-dc11872495ed",
   "metadata": {
    "id": "axTbpgvtVFyU"
   },
   "source": [
    "## 여러 디바이스에서 병렬 실행"
   ]
  },
  {
   "cell_type": "markdown",
   "id": "8c619d41-870f-4ad8-9526-a4b104809598",
   "metadata": {
    "id": "4Ar1AawCVFyU"
   },
   "source": [
    "inter-op 또는 intra-op 스레드 수를 설정하려는 경우(CPU 포화를 방지하거나 완벽하게 재현 가능한 테스트 케이스를 실행하기 위해 텐서플로를 단일 스레드로 만들고자 하는 경우 유용하다):"
   ]
  },
  {
   "cell_type": "code",
   "execution_count": 41,
   "id": "b7ab432a-033f-48b7-9262-2227aa95089f",
   "metadata": {
    "scrolled": true
   },
   "outputs": [],
   "source": [
    "from tensorflow.config import threading\n",
    "\n",
    "# threading.set_inter_op_parallelism_threads(10)\n",
    "# threading.set_intra_op_parallelism_threads(10)"
   ]
  },
  {
   "cell_type": "code",
   "execution_count": null,
   "id": "3d7e6f31-aac4-4dc7-ac8e-7b50e350a87b",
   "metadata": {
    "scrolled": true
   },
   "outputs": [],
   "source": []
  }
 ],
 "metadata": {
  "kernelspec": {
   "display_name": "Python 3 (ipykernel)",
   "language": "python",
   "name": "python3"
  },
  "language_info": {
   "codemirror_mode": {
    "name": "ipython",
    "version": 3
   },
   "file_extension": ".py",
   "mimetype": "text/x-python",
   "name": "python",
   "nbconvert_exporter": "python",
   "pygments_lexer": "ipython3",
   "version": "3.11.13"
  }
 },
 "nbformat": 4,
 "nbformat_minor": 5
}
