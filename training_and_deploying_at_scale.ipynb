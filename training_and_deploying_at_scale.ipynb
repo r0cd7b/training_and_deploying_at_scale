{
 "cells": [
  {
   "cell_type": "markdown",
   "id": "4579ff53-e818-43a4-b924-44adc9a9d862",
   "metadata": {},
   "source": [
    "**대규모 텐서플로 모델 훈련과 배포**"
   ]
  },
  {
   "cell_type": "markdown",
   "id": "bd38d987-20b3-4cc9-8574-73db1ddb1363",
   "metadata": {},
   "source": [
    "# 설정"
   ]
  },
  {
   "cell_type": "code",
   "execution_count": 1,
   "id": "22166b74-6cf6-428a-8e98-04b5655547b8",
   "metadata": {
    "scrolled": true
   },
   "outputs": [
    {
     "name": "stderr",
     "output_type": "stream",
     "text": [
      "2025-07-29 14:47:28.697021: E external/local_xla/xla/stream_executor/cuda/cuda_fft.cc:467] Unable to register cuFFT factory: Attempting to register factory for plugin cuFFT when one has already been registered\n",
      "WARNING: All log messages before absl::InitializeLog() is called are written to STDERR\n",
      "E0000 00:00:1753800448.714065    8729 cuda_dnn.cc:8579] Unable to register cuDNN factory: Attempting to register factory for plugin cuDNN when one has already been registered\n",
      "E0000 00:00:1753800448.721934    8729 cuda_blas.cc:1407] Unable to register cuBLAS factory: Attempting to register factory for plugin cuBLAS when one has already been registered\n",
      "W0000 00:00:1753800448.740699    8729 computation_placer.cc:177] computation placer already registered. Please check linkage and avoid linking the same target more than once.\n",
      "W0000 00:00:1753800448.740710    8729 computation_placer.cc:177] computation placer already registered. Please check linkage and avoid linking the same target more than once.\n",
      "W0000 00:00:1753800448.740712    8729 computation_placer.cc:177] computation placer already registered. Please check linkage and avoid linking the same target more than once.\n",
      "W0000 00:00:1753800448.740714    8729 computation_placer.cc:177] computation placer already registered. Please check linkage and avoid linking the same target more than once.\n",
      "2025-07-29 14:47:28.745280: I tensorflow/core/platform/cpu_feature_guard.cc:210] This TensorFlow binary is optimized to use available CPU instructions in performance-critical operations.\n",
      "To enable the following instructions: AVX2 FMA, in other operations, rebuild TensorFlow with the appropriate compiler flags.\n"
     ]
    },
    {
     "data": {
      "text/plain": [
       "[PhysicalDevice(name='/physical_device:GPU:0', device_type='GPU')]"
      ]
     },
     "execution_count": 1,
     "metadata": {},
     "output_type": "execute_result"
    }
   ],
   "source": [
    "from tensorflow import config\n",
    "\n",
    "config.list_physical_devices('GPU')"
   ]
  },
  {
   "cell_type": "markdown",
   "id": "4b1be943-63b3-4d0c-8fde-1e5c405b05c2",
   "metadata": {
    "scrolled": true
   },
   "source": [
    "# 텐서플로 모델 서빙하기"
   ]
  },
  {
   "cell_type": "markdown",
   "id": "86eb5c2e-dc4e-44ef-bc25-a5dd5522b3f6",
   "metadata": {},
   "source": [
    "먼저 TF 서빙을 사용하여 모델을 배포한 다음 Google Vertex AI에 배포해 본다."
   ]
  },
  {
   "cell_type": "markdown",
   "id": "1309a9b1-51be-4201-acba-e8803420ea6b",
   "metadata": {},
   "source": [
    "## 텐서플로 서빙 사용"
   ]
  },
  {
   "cell_type": "markdown",
   "id": "935d5b5c-5a56-4cd7-bd6f-3919a6685218",
   "metadata": {
    "id": "zKEy9mBwVFyD"
   },
   "source": [
    "가장 먼저 모델을 빌드하고 학습한 다음 SavedModel 포맷으로 내보낸다."
   ]
  },
  {
   "cell_type": "markdown",
   "id": "ba2200fe-5cb1-4cc5-a972-bbcb699fe433",
   "metadata": {
    "id": "goSzUGwCVFyD"
   },
   "source": [
    "### SavedModel 내보내기"
   ]
  },
  {
   "cell_type": "markdown",
   "id": "f750bdc2-70f0-4b2e-8218-2cbb3ee1e754",
   "metadata": {
    "id": "cRFHavXnVFyD"
   },
   "source": [
    "MNIST 데이터 세트를 로드하고, 스케일을 조정하고, 분할한다."
   ]
  },
  {
   "cell_type": "code",
   "execution_count": 2,
   "id": "a01da7cc-bb70-49c1-bb5a-dc0d2efdd39d",
   "metadata": {
    "scrolled": true
   },
   "outputs": [
    {
     "name": "stderr",
     "output_type": "stream",
     "text": [
      "I0000 00:00:1753800452.108598    8729 gpu_device.cc:2019] Created device /job:localhost/replica:0/task:0/device:GPU:0 with 5557 MB memory:  -> device: 0, name: NVIDIA GeForce RTX 3070 Ti, pci bus id: 0000:06:00.0, compute capability: 8.6\n"
     ]
    },
    {
     "name": "stdout",
     "output_type": "stream",
     "text": [
      "Epoch 1/10\n"
     ]
    },
    {
     "name": "stderr",
     "output_type": "stream",
     "text": [
      "WARNING: All log messages before absl::InitializeLog() is called are written to STDERR\n",
      "I0000 00:00:1753800453.346015    8786 service.cc:152] XLA service 0x7fcdb8006b70 initialized for platform CUDA (this does not guarantee that XLA will be used). Devices:\n",
      "I0000 00:00:1753800453.346061    8786 service.cc:160]   StreamExecutor device (0): NVIDIA GeForce RTX 3070 Ti, Compute Capability 8.6\n",
      "2025-07-29 14:47:33.358979: I tensorflow/compiler/mlir/tensorflow/utils/dump_mlir_util.cc:269] disabling MLIR crash reproducer, set env var `MLIR_CRASH_REPRODUCER_DIRECTORY` to enable.\n",
      "I0000 00:00:1753800453.392994    8786 cuda_dnn.cc:529] Loaded cuDNN version 90300\n",
      "2025-07-29 14:47:34.062759: I external/local_xla/xla/stream_executor/cuda/subprocess_compilation.cc:346] ptxas warning : Registers are spilled to local memory in function 'gemm_fusion_dot_36_0', 92 bytes spill stores, 96 bytes spill loads\n",
      "\n",
      "2025-07-29 14:47:34.215710: I external/local_xla/xla/stream_executor/cuda/subprocess_compilation.cc:346] ptxas warning : Registers are spilled to local memory in function 'gemm_fusion_dot_36', 392 bytes spill stores, 392 bytes spill loads\n",
      "\n",
      "2025-07-29 14:47:34.266783: I external/local_xla/xla/stream_executor/cuda/subprocess_compilation.cc:346] ptxas warning : Registers are spilled to local memory in function 'gemm_fusion_dot_36', 76 bytes spill stores, 76 bytes spill loads\n",
      "\n",
      "2025-07-29 14:47:34.270615: I external/local_xla/xla/stream_executor/cuda/subprocess_compilation.cc:346] ptxas warning : Registers are spilled to local memory in function 'gemm_fusion_dot_36', 532 bytes spill stores, 532 bytes spill loads\n",
      "\n",
      "2025-07-29 14:47:34.541322: I external/local_xla/xla/stream_executor/cuda/subprocess_compilation.cc:346] ptxas warning : Registers are spilled to local memory in function 'gemm_fusion_dot_36', 300 bytes spill stores, 300 bytes spill loads\n",
      "\n",
      "2025-07-29 14:47:34.819889: I external/local_xla/xla/stream_executor/cuda/subprocess_compilation.cc:346] ptxas warning : Registers are spilled to local memory in function 'gemm_fusion_dot_36', 1156 bytes spill stores, 1156 bytes spill loads\n",
      "\n",
      "2025-07-29 14:47:34.829580: I external/local_xla/xla/stream_executor/cuda/subprocess_compilation.cc:346] ptxas warning : Registers are spilled to local memory in function 'gemm_fusion_dot_36', 5116 bytes spill stores, 5164 bytes spill loads\n",
      "\n",
      "2025-07-29 14:47:35.070844: I external/local_xla/xla/stream_executor/cuda/subprocess_compilation.cc:346] ptxas warning : Registers are spilled to local memory in function 'gemm_fusion_dot_36', 5256 bytes spill stores, 5240 bytes spill loads\n",
      "\n",
      "2025-07-29 14:47:35.153230: I external/local_xla/xla/stream_executor/cuda/subprocess_compilation.cc:346] ptxas warning : Registers are spilled to local memory in function 'gemm_fusion_dot_173', 12 bytes spill stores, 12 bytes spill loads\n",
      "\n",
      "2025-07-29 14:47:35.239088: I external/local_xla/xla/stream_executor/cuda/subprocess_compilation.cc:346] ptxas warning : Registers are spilled to local memory in function 'gemm_fusion_dot_173', 4 bytes spill stores, 4 bytes spill loads\n",
      "\n",
      "2025-07-29 14:47:35.275764: I external/local_xla/xla/stream_executor/cuda/subprocess_compilation.cc:346] ptxas warning : Registers are spilled to local memory in function 'gemm_fusion_dot_173', 12 bytes spill stores, 12 bytes spill loads\n",
      "\n"
     ]
    },
    {
     "name": "stdout",
     "output_type": "stream",
     "text": [
      "\u001b[1m  76/1719\u001b[0m \u001b[37m━━━━━━━━━━━━━━━━━━━━\u001b[0m \u001b[1m3s\u001b[0m 2ms/step - accuracy: 0.2005 - loss: 2.2267"
     ]
    },
    {
     "name": "stderr",
     "output_type": "stream",
     "text": [
      "I0000 00:00:1753800455.970206    8786 device_compiler.h:188] Compiled cluster using XLA!  This line is logged at most once for the lifetime of the process.\n"
     ]
    },
    {
     "name": "stdout",
     "output_type": "stream",
     "text": [
      "\u001b[1m1696/1719\u001b[0m \u001b[32m━━━━━━━━━━━━━━━━━━━\u001b[0m\u001b[37m━\u001b[0m \u001b[1m0s\u001b[0m 2ms/step - accuracy: 0.7130 - loss: 1.1008"
     ]
    },
    {
     "name": "stderr",
     "output_type": "stream",
     "text": [
      "2025-07-29 14:47:39.997440: I external/local_xla/xla/stream_executor/cuda/subprocess_compilation.cc:346] ptxas warning : Registers are spilled to local memory in function 'gemm_fusion_dot_36_0', 92 bytes spill stores, 92 bytes spill loads\n",
      "\n",
      "2025-07-29 14:47:40.139169: I external/local_xla/xla/stream_executor/cuda/subprocess_compilation.cc:346] ptxas warning : Registers are spilled to local memory in function 'gemm_fusion_dot_36', 284 bytes spill stores, 284 bytes spill loads\n",
      "\n",
      "2025-07-29 14:47:40.176089: I external/local_xla/xla/stream_executor/cuda/subprocess_compilation.cc:346] ptxas warning : Registers are spilled to local memory in function 'gemm_fusion_dot_36', 8 bytes spill stores, 8 bytes spill loads\n",
      "\n",
      "2025-07-29 14:47:40.176171: I external/local_xla/xla/stream_executor/cuda/subprocess_compilation.cc:346] ptxas warning : Registers are spilled to local memory in function 'gemm_fusion_dot_36', 8 bytes spill stores, 8 bytes spill loads\n",
      "\n",
      "2025-07-29 14:47:40.227355: I external/local_xla/xla/stream_executor/cuda/subprocess_compilation.cc:346] ptxas warning : Registers are spilled to local memory in function 'gemm_fusion_dot_36', 536 bytes spill stores, 536 bytes spill loads\n",
      "\n",
      "2025-07-29 14:47:40.438507: I external/local_xla/xla/stream_executor/cuda/subprocess_compilation.cc:346] ptxas warning : Registers are spilled to local memory in function 'gemm_fusion_dot_36', 72 bytes spill stores, 72 bytes spill loads\n",
      "\n",
      "2025-07-29 14:47:40.707613: I external/local_xla/xla/stream_executor/cuda/subprocess_compilation.cc:346] ptxas warning : Registers are spilled to local memory in function 'gemm_fusion_dot_36', 1188 bytes spill stores, 1192 bytes spill loads\n",
      "\n",
      "2025-07-29 14:47:40.851803: I external/local_xla/xla/stream_executor/cuda/subprocess_compilation.cc:346] ptxas warning : Registers are spilled to local memory in function 'gemm_fusion_dot_36', 5108 bytes spill stores, 5160 bytes spill loads\n",
      "\n",
      "2025-07-29 14:47:41.037693: I external/local_xla/xla/stream_executor/cuda/subprocess_compilation.cc:346] ptxas warning : Registers are spilled to local memory in function 'gemm_fusion_dot_36', 5248 bytes spill stores, 5240 bytes spill loads\n",
      "\n",
      "2025-07-29 14:47:41.049210: I external/local_xla/xla/stream_executor/cuda/subprocess_compilation.cc:346] ptxas warning : Registers are spilled to local memory in function 'gemm_fusion_dot_173', 12 bytes spill stores, 12 bytes spill loads\n",
      "\n",
      "2025-07-29 14:47:41.201859: I external/local_xla/xla/stream_executor/cuda/subprocess_compilation.cc:346] ptxas warning : Registers are spilled to local memory in function 'gemm_fusion_dot_36', 396 bytes spill stores, 396 bytes spill loads\n",
      "\n",
      "2025-07-29 14:47:41.299142: I external/local_xla/xla/stream_executor/cuda/subprocess_compilation.cc:346] ptxas warning : Registers are spilled to local memory in function 'gemm_fusion_dot_173', 12 bytes spill stores, 12 bytes spill loads\n",
      "\n",
      "2025-07-29 14:47:41.362006: I external/local_xla/xla/stream_executor/cuda/subprocess_compilation.cc:346] ptxas warning : Registers are spilled to local memory in function 'gemm_fusion_dot_173', 12 bytes spill stores, 12 bytes spill loads\n",
      "\n"
     ]
    },
    {
     "name": "stdout",
     "output_type": "stream",
     "text": [
      "\u001b[1m1719/1719\u001b[0m \u001b[32m━━━━━━━━━━━━━━━━━━━━\u001b[0m\u001b[37m\u001b[0m \u001b[1m0s\u001b[0m 4ms/step - accuracy: 0.7145 - loss: 1.0954"
     ]
    },
    {
     "name": "stderr",
     "output_type": "stream",
     "text": [
      "2025-07-29 14:47:43.531830: I external/local_xla/xla/stream_executor/cuda/subprocess_compilation.cc:346] ptxas warning : Registers are spilled to local memory in function 'gemm_fusion_dot_34', 8 bytes spill stores, 8 bytes spill loads\n",
      "\n",
      "2025-07-29 14:47:43.552289: I external/local_xla/xla/stream_executor/cuda/subprocess_compilation.cc:346] ptxas warning : Registers are spilled to local memory in function 'gemm_fusion_dot_34', 296 bytes spill stores, 296 bytes spill loads\n",
      "\n",
      "2025-07-29 14:47:43.703566: I external/local_xla/xla/stream_executor/cuda/subprocess_compilation.cc:346] ptxas warning : Registers are spilled to local memory in function 'gemm_fusion_dot_34', 8 bytes spill stores, 8 bytes spill loads\n",
      "\n",
      "2025-07-29 14:47:43.830859: I external/local_xla/xla/stream_executor/cuda/subprocess_compilation.cc:346] ptxas warning : Registers are spilled to local memory in function 'gemm_fusion_dot_34', 792 bytes spill stores, 844 bytes spill loads\n",
      "\n",
      "2025-07-29 14:47:43.956906: I external/local_xla/xla/stream_executor/cuda/subprocess_compilation.cc:346] ptxas warning : Registers are spilled to local memory in function 'gemm_fusion_dot_34', 4632 bytes spill stores, 4676 bytes spill loads\n",
      "\n",
      "2025-07-29 14:47:44.010322: I external/local_xla/xla/stream_executor/cuda/subprocess_compilation.cc:346] ptxas warning : Registers are spilled to local memory in function 'gemm_fusion_dot_34', 4872 bytes spill stores, 4860 bytes spill loads\n",
      "\n"
     ]
    },
    {
     "name": "stdout",
     "output_type": "stream",
     "text": [
      "\u001b[1m1719/1719\u001b[0m \u001b[32m━━━━━━━━━━━━━━━━━━━━\u001b[0m\u001b[37m\u001b[0m \u001b[1m11s\u001b[0m 5ms/step - accuracy: 0.7146 - loss: 1.0951 - val_accuracy: 0.9026 - val_loss: 0.3752\n",
      "Epoch 2/10\n",
      "\u001b[1m1719/1719\u001b[0m \u001b[32m━━━━━━━━━━━━━━━━━━━━\u001b[0m\u001b[37m\u001b[0m \u001b[1m4s\u001b[0m 2ms/step - accuracy: 0.8997 - loss: 0.3683 - val_accuracy: 0.9196 - val_loss: 0.2979\n",
      "Epoch 3/10\n",
      "\u001b[1m1719/1719\u001b[0m \u001b[32m━━━━━━━━━━━━━━━━━━━━\u001b[0m\u001b[37m\u001b[0m \u001b[1m4s\u001b[0m 3ms/step - accuracy: 0.9125 - loss: 0.3074 - val_accuracy: 0.9276 - val_loss: 0.2620\n",
      "Epoch 4/10\n",
      "\u001b[1m1719/1719\u001b[0m \u001b[32m━━━━━━━━━━━━━━━━━━━━\u001b[0m\u001b[37m\u001b[0m \u001b[1m4s\u001b[0m 3ms/step - accuracy: 0.9236 - loss: 0.2709 - val_accuracy: 0.9342 - val_loss: 0.2395\n",
      "Epoch 5/10\n",
      "\u001b[1m1719/1719\u001b[0m \u001b[32m━━━━━━━━━━━━━━━━━━━━\u001b[0m\u001b[37m\u001b[0m \u001b[1m4s\u001b[0m 3ms/step - accuracy: 0.9294 - loss: 0.2526 - val_accuracy: 0.9374 - val_loss: 0.2228\n",
      "Epoch 6/10\n",
      "\u001b[1m1719/1719\u001b[0m \u001b[32m━━━━━━━━━━━━━━━━━━━━\u001b[0m\u001b[37m\u001b[0m \u001b[1m4s\u001b[0m 2ms/step - accuracy: 0.9361 - loss: 0.2290 - val_accuracy: 0.9430 - val_loss: 0.2088\n",
      "Epoch 7/10\n",
      "\u001b[1m1719/1719\u001b[0m \u001b[32m━━━━━━━━━━━━━━━━━━━━\u001b[0m\u001b[37m\u001b[0m \u001b[1m4s\u001b[0m 3ms/step - accuracy: 0.9398 - loss: 0.2160 - val_accuracy: 0.9472 - val_loss: 0.1950\n",
      "Epoch 8/10\n",
      "\u001b[1m1719/1719\u001b[0m \u001b[32m━━━━━━━━━━━━━━━━━━━━\u001b[0m\u001b[37m\u001b[0m \u001b[1m4s\u001b[0m 3ms/step - accuracy: 0.9443 - loss: 0.1996 - val_accuracy: 0.9504 - val_loss: 0.1846\n",
      "Epoch 9/10\n",
      "\u001b[1m1719/1719\u001b[0m \u001b[32m━━━━━━━━━━━━━━━━━━━━\u001b[0m\u001b[37m\u001b[0m \u001b[1m4s\u001b[0m 2ms/step - accuracy: 0.9494 - loss: 0.1852 - val_accuracy: 0.9520 - val_loss: 0.1760\n",
      "Epoch 10/10\n",
      "\u001b[1m1719/1719\u001b[0m \u001b[32m━━━━━━━━━━━━━━━━━━━━\u001b[0m\u001b[37m\u001b[0m \u001b[1m4s\u001b[0m 3ms/step - accuracy: 0.9510 - loss: 0.1761 - val_accuracy: 0.9546 - val_loss: 0.1675\n",
      "INFO:tensorflow:Assets written to: my_mnist_model/0001/assets\n"
     ]
    },
    {
     "name": "stderr",
     "output_type": "stream",
     "text": [
      "INFO:tensorflow:Assets written to: my_mnist_model/0001/assets\n"
     ]
    },
    {
     "name": "stdout",
     "output_type": "stream",
     "text": [
      "Saved artifact at 'my_mnist_model/0001'. The following endpoints are available:\n",
      "\n",
      "* Endpoint 'serve'\n",
      "  args_0 (POSITIONAL_ONLY): TensorSpec(shape=(None, 28, 28), dtype=tf.uint8, name='keras_tensor')\n",
      "Output Type:\n",
      "  TensorSpec(shape=(None, 10), dtype=tf.float32, name=None)\n",
      "Captures:\n",
      "  140525231223632: TensorSpec(shape=(), dtype=tf.resource, name=None)\n",
      "  140525231224784: TensorSpec(shape=(), dtype=tf.resource, name=None)\n",
      "  140525231222096: TensorSpec(shape=(), dtype=tf.resource, name=None)\n",
      "  140525231225360: TensorSpec(shape=(), dtype=tf.resource, name=None)\n"
     ]
    }
   ],
   "source": [
    "from tensorflow.keras.datasets import mnist\n",
    "from tensorflow.keras import backend, layers\n",
    "from tensorflow import keras\n",
    "import tensorflow as tf\n",
    "from pathlib import Path\n",
    "\n",
    "mnist_ = mnist.load_data()\n",
    "(X_train_full, y_train_full), (X_test, y_test) = mnist_\n",
    "X_valid, X_train = X_train_full[:5000], X_train_full[5000:]\n",
    "y_valid, y_train = y_train_full[:5000], y_train_full[5000:]\n",
    "backend.clear_session()\n",
    "model = keras.Sequential()\n",
    "model.add(keras.Input((28, 28), dtype=tf.uint8))\n",
    "model.add(layers.Flatten())\n",
    "model.add(layers.Rescaling(1 / 255))\n",
    "model.add(layers.Dense(100, activation='relu'))\n",
    "model.add(layers.Dense(10, activation='softmax'))\n",
    "model.compile(optimizer='SGD', loss='sparse_categorical_crossentropy', metrics=['accuracy'])\n",
    "model.fit(X_train, y_train, epochs=10, validation_data=(X_valid, y_valid))\n",
    "model_name = 'my_mnist_model'\n",
    "model_version = '0001'\n",
    "model_path = Path(model_name) / model_version\n",
    "model.export(model_path)"
   ]
  },
  {
   "cell_type": "markdown",
   "id": "a90a5f4d-5092-476c-8ed0-3786fd1e2a6b",
   "metadata": {
    "id": "uIK2q8hoVFyE"
   },
   "source": [
    "파일 트리를 살핀다:"
   ]
  },
  {
   "cell_type": "code",
   "execution_count": 3,
   "id": "55fa7f31-2674-4886-9675-acc628b709b8",
   "metadata": {
    "scrolled": true
   },
   "outputs": [
    {
     "data": {
      "text/plain": [
       "['my_mnist_model/0001',\n",
       " 'my_mnist_model/0001/assets',\n",
       " 'my_mnist_model/0001/fingerprint.pb',\n",
       " 'my_mnist_model/0001/saved_model.pb',\n",
       " 'my_mnist_model/0001/variables',\n",
       " 'my_mnist_model/0001/variables/variables.data-00000-of-00001',\n",
       " 'my_mnist_model/0001/variables/variables.index']"
      ]
     },
     "execution_count": 3,
     "metadata": {},
     "output_type": "execute_result"
    }
   ],
   "source": [
    "sorted([str(path) for path in model_path.parent.glob('**/*')])"
   ]
  },
  {
   "cell_type": "markdown",
   "id": "f997f48b-af4c-4e15-9752-5cad0fdb4b18",
   "metadata": {
    "id": "7Cx61kc5VFyE"
   },
   "source": [
    "SavedModel을 검사한다:"
   ]
  },
  {
   "cell_type": "code",
   "execution_count": 4,
   "id": "25fb662c-ea0a-46a5-aeff-6ca5f5509c6c",
   "metadata": {
    "colab": {
     "base_uri": "https://localhost:8080/"
    },
    "id": "CQfjlLGzVFyE",
    "outputId": "bbdb9a4b-4c8b-4746-f20c-af746da30dc6",
    "scrolled": true
   },
   "outputs": [
    {
     "name": "stdout",
     "output_type": "stream",
     "text": [
      "2025-07-29 14:48:23.552398: E external/local_xla/xla/stream_executor/cuda/cuda_fft.cc:467] Unable to register cuFFT factory: Attempting to register factory for plugin cuFFT when one has already been registered\n",
      "WARNING: All log messages before absl::InitializeLog() is called are written to STDERR\n",
      "E0000 00:00:1753800503.566079    9601 cuda_dnn.cc:8579] Unable to register cuDNN factory: Attempting to register factory for plugin cuDNN when one has already been registered\n",
      "E0000 00:00:1753800503.570123    9601 cuda_blas.cc:1407] Unable to register cuBLAS factory: Attempting to register factory for plugin cuBLAS when one has already been registered\n",
      "W0000 00:00:1753800503.581844    9601 computation_placer.cc:177] computation placer already registered. Please check linkage and avoid linking the same target more than once.\n",
      "W0000 00:00:1753800503.581881    9601 computation_placer.cc:177] computation placer already registered. Please check linkage and avoid linking the same target more than once.\n",
      "W0000 00:00:1753800503.581887    9601 computation_placer.cc:177] computation placer already registered. Please check linkage and avoid linking the same target more than once.\n",
      "W0000 00:00:1753800503.581890    9601 computation_placer.cc:177] computation placer already registered. Please check linkage and avoid linking the same target more than once.\n",
      "2025-07-29 14:48:23.585226: I tensorflow/core/platform/cpu_feature_guard.cc:210] This TensorFlow binary is optimized to use available CPU instructions in performance-critical operations.\n",
      "To enable the following instructions: AVX2 FMA, in other operations, rebuild TensorFlow with the appropriate compiler flags.\n",
      "The given SavedModel contains the following tag-sets:\n",
      "'serve'\n"
     ]
    }
   ],
   "source": [
    "!saved_model_cli show --dir '{model_path}'"
   ]
  },
  {
   "cell_type": "code",
   "execution_count": 5,
   "id": "35e4cefb-6632-476e-ba6b-43a056800717",
   "metadata": {
    "scrolled": true
   },
   "outputs": [
    {
     "name": "stdout",
     "output_type": "stream",
     "text": [
      "2025-07-29 14:48:26.212781: E external/local_xla/xla/stream_executor/cuda/cuda_fft.cc:467] Unable to register cuFFT factory: Attempting to register factory for plugin cuFFT when one has already been registered\n",
      "WARNING: All log messages before absl::InitializeLog() is called are written to STDERR\n",
      "E0000 00:00:1753800506.225814    9617 cuda_dnn.cc:8579] Unable to register cuDNN factory: Attempting to register factory for plugin cuDNN when one has already been registered\n",
      "E0000 00:00:1753800506.229860    9617 cuda_blas.cc:1407] Unable to register cuBLAS factory: Attempting to register factory for plugin cuBLAS when one has already been registered\n",
      "W0000 00:00:1753800506.241359    9617 computation_placer.cc:177] computation placer already registered. Please check linkage and avoid linking the same target more than once.\n",
      "W0000 00:00:1753800506.241394    9617 computation_placer.cc:177] computation placer already registered. Please check linkage and avoid linking the same target more than once.\n",
      "W0000 00:00:1753800506.241400    9617 computation_placer.cc:177] computation placer already registered. Please check linkage and avoid linking the same target more than once.\n",
      "W0000 00:00:1753800506.241403    9617 computation_placer.cc:177] computation placer already registered. Please check linkage and avoid linking the same target more than once.\n",
      "2025-07-29 14:48:26.244702: I tensorflow/core/platform/cpu_feature_guard.cc:210] This TensorFlow binary is optimized to use available CPU instructions in performance-critical operations.\n",
      "To enable the following instructions: AVX2 FMA, in other operations, rebuild TensorFlow with the appropriate compiler flags.\n",
      "The given SavedModel MetaGraphDef contains SignatureDefs with the following keys:\n",
      "SignatureDef key: \"__saved_model_init_op\"\n",
      "SignatureDef key: \"serve\"\n",
      "SignatureDef key: \"serving_default\"\n"
     ]
    }
   ],
   "source": [
    "!saved_model_cli show --dir '{model_path}' --tag_set serve"
   ]
  },
  {
   "cell_type": "code",
   "execution_count": 6,
   "id": "12825c63-e383-4361-aba3-34aa148b4649",
   "metadata": {
    "scrolled": true
   },
   "outputs": [
    {
     "name": "stdout",
     "output_type": "stream",
     "text": [
      "2025-07-29 14:48:28.714176: E external/local_xla/xla/stream_executor/cuda/cuda_fft.cc:467] Unable to register cuFFT factory: Attempting to register factory for plugin cuFFT when one has already been registered\n",
      "WARNING: All log messages before absl::InitializeLog() is called are written to STDERR\n",
      "E0000 00:00:1753800508.727995    9633 cuda_dnn.cc:8579] Unable to register cuDNN factory: Attempting to register factory for plugin cuDNN when one has already been registered\n",
      "E0000 00:00:1753800508.732280    9633 cuda_blas.cc:1407] Unable to register cuBLAS factory: Attempting to register factory for plugin cuBLAS when one has already been registered\n",
      "W0000 00:00:1753800508.744008    9633 computation_placer.cc:177] computation placer already registered. Please check linkage and avoid linking the same target more than once.\n",
      "W0000 00:00:1753800508.744052    9633 computation_placer.cc:177] computation placer already registered. Please check linkage and avoid linking the same target more than once.\n",
      "W0000 00:00:1753800508.744058    9633 computation_placer.cc:177] computation placer already registered. Please check linkage and avoid linking the same target more than once.\n",
      "W0000 00:00:1753800508.744061    9633 computation_placer.cc:177] computation placer already registered. Please check linkage and avoid linking the same target more than once.\n",
      "2025-07-29 14:48:28.747418: I tensorflow/core/platform/cpu_feature_guard.cc:210] This TensorFlow binary is optimized to use available CPU instructions in performance-critical operations.\n",
      "To enable the following instructions: AVX2 FMA, in other operations, rebuild TensorFlow with the appropriate compiler flags.\n",
      "The given SavedModel SignatureDef contains the following input(s):\n",
      "  inputs['keras_tensor'] tensor_info:\n",
      "      dtype: DT_UINT8\n",
      "      shape: (-1, 28, 28)\n",
      "      name: serving_default_keras_tensor:0\n",
      "The given SavedModel SignatureDef contains the following output(s):\n",
      "  outputs['output_0'] tensor_info:\n",
      "      dtype: DT_FLOAT\n",
      "      shape: (-1, 10)\n",
      "      name: StatefulPartitionedCall_1:0\n",
      "Method name is: tensorflow/serving/predict\n"
     ]
    }
   ],
   "source": [
    "!saved_model_cli show --dir '{model_path}' --tag_set serve --signature_def serving_default"
   ]
  },
  {
   "cell_type": "markdown",
   "id": "e0504ef0-5d1f-4831-8512-362ae21e54ec",
   "metadata": {
    "scrolled": true
   },
   "source": [
    "더 자세한 내용을 보려면 다음 명령을 실행한다:\n",
    "```ipython\n",
    "!saved_model_cli show --dir '{model_path}' --all\n",
    "```"
   ]
  },
  {
   "cell_type": "markdown",
   "id": "4cc51d78-b8b8-4f4b-aeca-16b54ab1b5e1",
   "metadata": {
    "id": "OvMBNdCDVFyF"
   },
   "source": [
    "### 텐서플로 서빙 설치 및 시작하기"
   ]
  },
  {
   "cell_type": "markdown",
   "id": "a3ae5e62-e4f1-4507-a58e-70a030912056",
   "metadata": {
    "id": "ueDMUZy7VFyG"
   },
   "source": [
    "도커를 사용해 TF 서빙을 설치하려면 먼저 [Docker](https://docs.docker.com/install/)가 설치되어 있는지 확인한 후 터미널에서 다음 명령을 실행한다.\n",
    "```bash\n",
    "docker pull tensorflow/serving:latest-gpu\n",
    "\n",
    "docker run -e MODEL_NAME=my_mnist_model --gpus all -it -p 8500:8500 -p 8501:8501 -v path\\to\\my_mnist_model:/models/my_mnist_model tensorflow/serving:latest-gpu\n",
    "```"
   ]
  },
  {
   "cell_type": "markdown",
   "id": "dc0b417d-01e2-4ed3-97d5-a5c07c56b6e6",
   "metadata": {
    "id": "0AK-0xoYVFyG"
   },
   "source": [
    "### REST API로 TF 서빙에 쿼리하기"
   ]
  },
  {
   "cell_type": "markdown",
   "id": "74416a7e-a3bf-4549-a1ae-2b898d37b0dc",
   "metadata": {
    "id": "8xaftl-rVFyG"
   },
   "source": [
    "다음으로 TF 서빙에 REST 쿼리를 전송한다:"
   ]
  },
  {
   "cell_type": "code",
   "execution_count": 7,
   "id": "72b136dc-6228-4ce9-9753-f105d56f5ebd",
   "metadata": {
    "scrolled": true
   },
   "outputs": [],
   "source": [
    "import json\n",
    "\n",
    "X_new = X_test[:3]  # 분류할 새로운 숫자 이미지가 3개 있다고 가정한다.\n",
    "request_json = json.dumps({'signature_name': 'serving_default', 'instances': X_new.tolist()})"
   ]
  },
  {
   "cell_type": "code",
   "execution_count": 8,
   "id": "b638da46-814b-4cd2-b672-22bef53eac8d",
   "metadata": {
    "scrolled": true
   },
   "outputs": [
    {
     "data": {
      "text/plain": [
       "'{\"signature_name\": \"serving_default\", \"instances\": [[[0, 0, 0, 0, 0, 0, 0, 0, 0, 0, 0, 0, 0, 0, 0, 0..., 0, 0]]]}'"
      ]
     },
     "execution_count": 8,
     "metadata": {},
     "output_type": "execute_result"
    }
   ],
   "source": [
    "request_json[:100] + '...' + request_json[-10:]"
   ]
  },
  {
   "cell_type": "markdown",
   "id": "1eeb304c-624a-4dba-aa13-78bc49f5537f",
   "metadata": {
    "id": "_xdNZs2rVFyG"
   },
   "source": [
    "이제 텐서플로 서빙의 REST API를 사용하여 예측한다:"
   ]
  },
  {
   "cell_type": "code",
   "execution_count": 9,
   "id": "0b284189-388f-4248-b657-b6989849e56b",
   "metadata": {
    "scrolled": true
   },
   "outputs": [],
   "source": [
    "import requests\n",
    "\n",
    "server_url = 'http://172.17.0.2:8501/v1/models/my_mnist_model:predict'\n",
    "response = requests.post(server_url, request_json)\n",
    "response.raise_for_status()  # 오류 발생 시 예외 발생\n",
    "response = response.json()"
   ]
  },
  {
   "cell_type": "code",
   "execution_count": 10,
   "id": "c83742b4-2e82-495a-a630-f324923145d1",
   "metadata": {
    "scrolled": true
   },
   "outputs": [
    {
     "data": {
      "text/plain": [
       "array([[0.  , 0.  , 0.  , 0.  , 0.  , 0.  , 0.  , 1.  , 0.  , 0.  ],\n",
       "       [0.  , 0.  , 0.98, 0.01, 0.  , 0.  , 0.  , 0.  , 0.  , 0.  ],\n",
       "       [0.  , 0.98, 0.01, 0.  , 0.  , 0.  , 0.  , 0.01, 0.  , 0.  ]])"
      ]
     },
     "execution_count": 10,
     "metadata": {},
     "output_type": "execute_result"
    }
   ],
   "source": [
    "import numpy as np\n",
    "\n",
    "y_proba = np.array(response['predictions'])\n",
    "y_proba.round(2)"
   ]
  },
  {
   "cell_type": "markdown",
   "id": "173332e7-eec4-4113-9f2b-0a3ed1347b8c",
   "metadata": {
    "id": "eEiYgEi_VFyK"
   },
   "source": [
    "### gRPC API로 TF 서빙에 쿼리하기"
   ]
  },
  {
   "cell_type": "code",
   "execution_count": 11,
   "id": "5b263222-947b-47db-b39c-395c1b9d3746",
   "metadata": {
    "scrolled": true
   },
   "outputs": [],
   "source": [
    "from tensorflow_serving.apis.predict_pb2 import PredictRequest\n",
    "\n",
    "request = PredictRequest()\n",
    "request.model_spec.name = model_name\n",
    "request.model_spec.signature_name = 'serving_default'\n",
    "input_name = 'keras_tensor'\n",
    "request.inputs[input_name].CopyFrom(tf.make_tensor_proto(X_new))"
   ]
  },
  {
   "cell_type": "code",
   "execution_count": 12,
   "id": "76c4f5bf-ee84-46fe-890f-d24e8139ff44",
   "metadata": {
    "scrolled": true
   },
   "outputs": [],
   "source": [
    "import grpc\n",
    "from tensorflow_serving.apis import prediction_service_pb2_grpc\n",
    "\n",
    "channel = grpc.insecure_channel('172.17.0.2:8500')\n",
    "predict_service = prediction_service_pb2_grpc.PredictionServiceStub(channel)\n",
    "response = predict_service.Predict(request, timeout=10.0)"
   ]
  },
  {
   "cell_type": "markdown",
   "id": "aaa9b0e9-7982-4176-aadf-7c4334c6fe23",
   "metadata": {
    "id": "_a-7lekeVFyL"
   },
   "source": [
    "응답을 텐서로 변환한다:"
   ]
  },
  {
   "cell_type": "code",
   "execution_count": 13,
   "id": "88e076ab-7ae0-45b1-8e98-a9c8fff4af45",
   "metadata": {
    "scrolled": true
   },
   "outputs": [],
   "source": [
    "output_name = 'output_0'\n",
    "outputs_proto = response.outputs[output_name]\n",
    "y_proba = tf.make_ndarray(outputs_proto)"
   ]
  },
  {
   "cell_type": "code",
   "execution_count": 14,
   "id": "81bdad44-b04b-4176-86ac-f867cc053dc6",
   "metadata": {
    "scrolled": true
   },
   "outputs": [
    {
     "data": {
      "text/plain": [
       "array([[0.  , 0.  , 0.  , 0.  , 0.  , 0.  , 0.  , 1.  , 0.  , 0.  ],\n",
       "       [0.  , 0.  , 0.98, 0.01, 0.  , 0.  , 0.  , 0.  , 0.  , 0.  ],\n",
       "       [0.  , 0.98, 0.01, 0.  , 0.  , 0.  , 0.  , 0.01, 0.  , 0.  ]],\n",
       "      dtype=float32)"
      ]
     },
     "execution_count": 14,
     "metadata": {},
     "output_type": "execute_result"
    }
   ],
   "source": [
    "y_proba.round(2)"
   ]
  },
  {
   "cell_type": "code",
   "execution_count": null,
   "id": "c33f0d5d-4ac7-4724-9200-b64ba2351bbc",
   "metadata": {
    "scrolled": true
   },
   "outputs": [],
   "source": []
  }
 ],
 "metadata": {
  "kernelspec": {
   "display_name": "Python 3 (ipykernel)",
   "language": "python",
   "name": "python3"
  },
  "language_info": {
   "codemirror_mode": {
    "name": "ipython",
    "version": 3
   },
   "file_extension": ".py",
   "mimetype": "text/x-python",
   "name": "python",
   "nbconvert_exporter": "python",
   "pygments_lexer": "ipython3",
   "version": "3.11.13"
  }
 },
 "nbformat": 4,
 "nbformat_minor": 5
}
