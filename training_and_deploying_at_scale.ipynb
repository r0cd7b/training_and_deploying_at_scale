{
 "cells": [
  {
   "cell_type": "markdown",
   "id": "4579ff53-e818-43a4-b924-44adc9a9d862",
   "metadata": {},
   "source": [
    "**대규모 텐서플로 모델 훈련과 배포**"
   ]
  },
  {
   "cell_type": "markdown",
   "id": "bd38d987-20b3-4cc9-8574-73db1ddb1363",
   "metadata": {},
   "source": [
    "# 설정"
   ]
  },
  {
   "cell_type": "code",
   "execution_count": 1,
   "id": "22166b74-6cf6-428a-8e98-04b5655547b8",
   "metadata": {
    "scrolled": true
   },
   "outputs": [
    {
     "name": "stderr",
     "output_type": "stream",
     "text": [
      "2025-07-27 15:05:17.661103: E external/local_xla/xla/stream_executor/cuda/cuda_fft.cc:467] Unable to register cuFFT factory: Attempting to register factory for plugin cuFFT when one has already been registered\n",
      "WARNING: All log messages before absl::InitializeLog() is called are written to STDERR\n",
      "E0000 00:00:1753628717.801416      32 cuda_dnn.cc:8579] Unable to register cuDNN factory: Attempting to register factory for plugin cuDNN when one has already been registered\n",
      "E0000 00:00:1753628717.842957      32 cuda_blas.cc:1407] Unable to register cuBLAS factory: Attempting to register factory for plugin cuBLAS when one has already been registered\n",
      "W0000 00:00:1753628718.164848      32 computation_placer.cc:177] computation placer already registered. Please check linkage and avoid linking the same target more than once.\n",
      "W0000 00:00:1753628718.164906      32 computation_placer.cc:177] computation placer already registered. Please check linkage and avoid linking the same target more than once.\n",
      "W0000 00:00:1753628718.164909      32 computation_placer.cc:177] computation placer already registered. Please check linkage and avoid linking the same target more than once.\n",
      "W0000 00:00:1753628718.164911      32 computation_placer.cc:177] computation placer already registered. Please check linkage and avoid linking the same target more than once.\n",
      "2025-07-27 15:05:18.198680: I tensorflow/core/platform/cpu_feature_guard.cc:210] This TensorFlow binary is optimized to use available CPU instructions in performance-critical operations.\n",
      "To enable the following instructions: AVX2 FMA, in other operations, rebuild TensorFlow with the appropriate compiler flags.\n"
     ]
    },
    {
     "data": {
      "text/plain": [
       "[PhysicalDevice(name='/physical_device:GPU:0', device_type='GPU')]"
      ]
     },
     "execution_count": 1,
     "metadata": {},
     "output_type": "execute_result"
    }
   ],
   "source": [
    "import tensorflow as tf\n",
    "\n",
    "tf.config.list_physical_devices('GPU')"
   ]
  },
  {
   "cell_type": "markdown",
   "id": "4b1be943-63b3-4d0c-8fde-1e5c405b05c2",
   "metadata": {
    "scrolled": true
   },
   "source": [
    "# 텐서플로 모델 서빙하기"
   ]
  },
  {
   "cell_type": "markdown",
   "id": "86eb5c2e-dc4e-44ef-bc25-a5dd5522b3f6",
   "metadata": {},
   "source": [
    "먼저 TF 서빙을 사용하여 모델을 배포한 다음 Google Vertex AI에 배포해 본다."
   ]
  },
  {
   "cell_type": "markdown",
   "id": "1309a9b1-51be-4201-acba-e8803420ea6b",
   "metadata": {},
   "source": [
    "## 텐서플로 서빙 사용"
   ]
  },
  {
   "cell_type": "markdown",
   "id": "935d5b5c-5a56-4cd7-bd6f-3919a6685218",
   "metadata": {
    "id": "zKEy9mBwVFyD"
   },
   "source": [
    "가장 먼저 모델을 빌드하고 학습한 다음 SavedModel 포맷으로 내보낸다."
   ]
  },
  {
   "cell_type": "markdown",
   "id": "ba2200fe-5cb1-4cc5-a972-bbcb699fe433",
   "metadata": {
    "id": "goSzUGwCVFyD"
   },
   "source": [
    "### SavedModel 내보내기"
   ]
  },
  {
   "cell_type": "markdown",
   "id": "f750bdc2-70f0-4b2e-8218-2cbb3ee1e754",
   "metadata": {
    "id": "cRFHavXnVFyD"
   },
   "source": [
    "MNIST 데이터 세트를 로드하고, 스케일을 조정하고, 분할한다."
   ]
  },
  {
   "cell_type": "code",
   "execution_count": 30,
   "id": "a01da7cc-bb70-49c1-bb5a-dc0d2efdd39d",
   "metadata": {
    "scrolled": true
   },
   "outputs": [
    {
     "name": "stdout",
     "output_type": "stream",
     "text": [
      "Epoch 1/10\n",
      "\u001b[1m1719/1719\u001b[0m \u001b[32m━━━━━━━━━━━━━━━━━━━━\u001b[0m\u001b[37m\u001b[0m \u001b[1m7s\u001b[0m 3ms/step - accuracy: 0.7268 - loss: 1.0815 - val_accuracy: 0.9016 - val_loss: 0.3679\n",
      "Epoch 2/10\n",
      "\u001b[1m1719/1719\u001b[0m \u001b[32m━━━━━━━━━━━━━━━━━━━━\u001b[0m\u001b[37m\u001b[0m \u001b[1m4s\u001b[0m 2ms/step - accuracy: 0.8977 - loss: 0.3685 - val_accuracy: 0.9170 - val_loss: 0.2969\n",
      "Epoch 3/10\n",
      "\u001b[1m1719/1719\u001b[0m \u001b[32m━━━━━━━━━━━━━━━━━━━━\u001b[0m\u001b[37m\u001b[0m \u001b[1m4s\u001b[0m 3ms/step - accuracy: 0.9150 - loss: 0.3053 - val_accuracy: 0.9288 - val_loss: 0.2661\n",
      "Epoch 4/10\n",
      "\u001b[1m1719/1719\u001b[0m \u001b[32m━━━━━━━━━━━━━━━━━━━━\u001b[0m\u001b[37m\u001b[0m \u001b[1m4s\u001b[0m 2ms/step - accuracy: 0.9229 - loss: 0.2786 - val_accuracy: 0.9346 - val_loss: 0.2425\n",
      "Epoch 5/10\n",
      "\u001b[1m1719/1719\u001b[0m \u001b[32m━━━━━━━━━━━━━━━━━━━━\u001b[0m\u001b[37m\u001b[0m \u001b[1m4s\u001b[0m 2ms/step - accuracy: 0.9301 - loss: 0.2447 - val_accuracy: 0.9378 - val_loss: 0.2246\n",
      "Epoch 6/10\n",
      "\u001b[1m1719/1719\u001b[0m \u001b[32m━━━━━━━━━━━━━━━━━━━━\u001b[0m\u001b[37m\u001b[0m \u001b[1m4s\u001b[0m 2ms/step - accuracy: 0.9355 - loss: 0.2282 - val_accuracy: 0.9406 - val_loss: 0.2107\n",
      "Epoch 7/10\n",
      "\u001b[1m1719/1719\u001b[0m \u001b[32m━━━━━━━━━━━━━━━━━━━━\u001b[0m\u001b[37m\u001b[0m \u001b[1m4s\u001b[0m 2ms/step - accuracy: 0.9386 - loss: 0.2225 - val_accuracy: 0.9440 - val_loss: 0.1971\n",
      "Epoch 8/10\n",
      "\u001b[1m1719/1719\u001b[0m \u001b[32m━━━━━━━━━━━━━━━━━━━━\u001b[0m\u001b[37m\u001b[0m \u001b[1m4s\u001b[0m 3ms/step - accuracy: 0.9430 - loss: 0.2034 - val_accuracy: 0.9480 - val_loss: 0.1875\n",
      "Epoch 9/10\n",
      "\u001b[1m1719/1719\u001b[0m \u001b[32m━━━━━━━━━━━━━━━━━━━━\u001b[0m\u001b[37m\u001b[0m \u001b[1m4s\u001b[0m 2ms/step - accuracy: 0.9472 - loss: 0.1874 - val_accuracy: 0.9506 - val_loss: 0.1777\n",
      "Epoch 10/10\n",
      "\u001b[1m1719/1719\u001b[0m \u001b[32m━━━━━━━━━━━━━━━━━━━━\u001b[0m\u001b[37m\u001b[0m \u001b[1m4s\u001b[0m 2ms/step - accuracy: 0.9492 - loss: 0.1828 - val_accuracy: 0.9536 - val_loss: 0.1689\n"
     ]
    },
    {
     "ename": "ValueError",
     "evalue": "Invalid filepath extension for saving. Please add either a `.keras` extension for the native Keras format (recommended) or a `.h5` extension. Use `model.export(filepath)` if you want to export a SavedModel for use with TFLite/TFServing/etc. Received: filepath=my_mnist_model/0001.",
     "output_type": "error",
     "traceback": [
      "\u001b[31m---------------------------------------------------------------------------\u001b[39m",
      "\u001b[31mValueError\u001b[39m                                Traceback (most recent call last)",
      "\u001b[36mCell\u001b[39m\u001b[36m \u001b[39m\u001b[32mIn[30]\u001b[39m\u001b[32m, line 19\u001b[39m\n\u001b[32m     17\u001b[39m model_version = \u001b[33m\"\u001b[39m\u001b[33m0001\u001b[39m\u001b[33m\"\u001b[39m\n\u001b[32m     18\u001b[39m model_path = Path(model_name) / model_version\n\u001b[32m---> \u001b[39m\u001b[32m19\u001b[39m \u001b[43mmodel\u001b[49m\u001b[43m.\u001b[49m\u001b[43msave\u001b[49m\u001b[43m(\u001b[49m\u001b[43mmodel_path\u001b[49m\u001b[43m)\u001b[49m\n",
      "\u001b[36mFile \u001b[39m\u001b[32m/usr/local/lib/python3.11/dist-packages/keras/src/utils/traceback_utils.py:122\u001b[39m, in \u001b[36mfilter_traceback.<locals>.error_handler\u001b[39m\u001b[34m(*args, **kwargs)\u001b[39m\n\u001b[32m    119\u001b[39m     filtered_tb = _process_traceback_frames(e.__traceback__)\n\u001b[32m    120\u001b[39m     \u001b[38;5;66;03m# To get the full stack trace, call:\u001b[39;00m\n\u001b[32m    121\u001b[39m     \u001b[38;5;66;03m# `keras.config.disable_traceback_filtering()`\u001b[39;00m\n\u001b[32m--> \u001b[39m\u001b[32m122\u001b[39m     \u001b[38;5;28;01mraise\u001b[39;00m e.with_traceback(filtered_tb) \u001b[38;5;28;01mfrom\u001b[39;00m\u001b[38;5;250m \u001b[39m\u001b[38;5;28;01mNone\u001b[39;00m\n\u001b[32m    123\u001b[39m \u001b[38;5;28;01mfinally\u001b[39;00m:\n\u001b[32m    124\u001b[39m     \u001b[38;5;28;01mdel\u001b[39;00m filtered_tb\n",
      "\u001b[36mFile \u001b[39m\u001b[32m/usr/local/lib/python3.11/dist-packages/keras/src/saving/saving_api.py:114\u001b[39m, in \u001b[36msave_model\u001b[39m\u001b[34m(model, filepath, overwrite, zipped, **kwargs)\u001b[39m\n\u001b[32m    110\u001b[39m \u001b[38;5;28;01mif\u001b[39;00m \u001b[38;5;28mstr\u001b[39m(filepath).endswith((\u001b[33m\"\u001b[39m\u001b[33m.h5\u001b[39m\u001b[33m\"\u001b[39m, \u001b[33m\"\u001b[39m\u001b[33m.hdf5\u001b[39m\u001b[33m\"\u001b[39m)):\n\u001b[32m    111\u001b[39m     \u001b[38;5;28;01mreturn\u001b[39;00m legacy_h5_format.save_model_to_hdf5(\n\u001b[32m    112\u001b[39m         model, filepath, overwrite, include_optimizer\n\u001b[32m    113\u001b[39m     )\n\u001b[32m--> \u001b[39m\u001b[32m114\u001b[39m \u001b[38;5;28;01mraise\u001b[39;00m \u001b[38;5;167;01mValueError\u001b[39;00m(\n\u001b[32m    115\u001b[39m     \u001b[33m\"\u001b[39m\u001b[33mInvalid filepath extension for saving. \u001b[39m\u001b[33m\"\u001b[39m\n\u001b[32m    116\u001b[39m     \u001b[33m\"\u001b[39m\u001b[33mPlease add either a `.keras` extension for the native Keras \u001b[39m\u001b[33m\"\u001b[39m\n\u001b[32m    117\u001b[39m     \u001b[33mf\u001b[39m\u001b[33m\"\u001b[39m\u001b[33mformat (recommended) or a `.h5` extension. \u001b[39m\u001b[33m\"\u001b[39m\n\u001b[32m    118\u001b[39m     \u001b[33m\"\u001b[39m\u001b[33mUse `model.export(filepath)` if you want to export a SavedModel \u001b[39m\u001b[33m\"\u001b[39m\n\u001b[32m    119\u001b[39m     \u001b[33m\"\u001b[39m\u001b[33mfor use with TFLite/TFServing/etc. \u001b[39m\u001b[33m\"\u001b[39m\n\u001b[32m    120\u001b[39m     \u001b[33mf\u001b[39m\u001b[33m\"\u001b[39m\u001b[33mReceived: filepath=\u001b[39m\u001b[38;5;132;01m{\u001b[39;00mfilepath\u001b[38;5;132;01m}\u001b[39;00m\u001b[33m.\u001b[39m\u001b[33m\"\u001b[39m\n\u001b[32m    121\u001b[39m )\n",
      "\u001b[31mValueError\u001b[39m: Invalid filepath extension for saving. Please add either a `.keras` extension for the native Keras format (recommended) or a `.h5` extension. Use `model.export(filepath)` if you want to export a SavedModel for use with TFLite/TFServing/etc. Received: filepath=my_mnist_model/0001."
     ]
    }
   ],
   "source": [
    "from pathlib import Path\n",
    "\n",
    "mnist = tf.keras.datasets.mnist.load_data()\n",
    "(X_train_full, y_train_full), (X_test, y_test) = mnist\n",
    "X_valid, X_train = X_train_full[:5000], X_train_full[5000:]\n",
    "y_valid, y_train = y_train_full[:5000], y_train_full[5000:]\n",
    "tf.keras.backend.clear_session()\n",
    "model = tf.keras.Sequential([\n",
    "    tf.keras.layers.Flatten(input_shape=[28, 28], dtype=tf.uint8),\n",
    "    tf.keras.layers.Rescaling(1 / 255),\n",
    "    tf.keras.layers.Dense(100, activation=\"relu\"),\n",
    "    tf.keras.layers.Dense(10, activation=\"softmax\")\n",
    "])\n",
    "model.compile(optimizer=\"SGD\", loss=\"sparse_categorical_crossentropy\", metrics=[\"accuracy\"])\n",
    "model.fit(X_train, y_train, epochs=10, validation_data=(X_valid, y_valid))\n",
    "model_name = \"my_mnist_model\"\n",
    "model_version = \"0001\"\n",
    "model_path = Path(model_name) / model_version\n",
    "model.export(model_path)"
   ]
  },
  {
   "cell_type": "markdown",
   "id": "a90a5f4d-5092-476c-8ed0-3786fd1e2a6b",
   "metadata": {
    "id": "uIK2q8hoVFyE"
   },
   "source": [
    "파일 트리를 살핀다:"
   ]
  },
  {
   "cell_type": "code",
   "execution_count": 32,
   "id": "55fa7f31-2674-4886-9675-acc628b709b8",
   "metadata": {
    "scrolled": true
   },
   "outputs": [
    {
     "data": {
      "text/plain": [
       "['my_mnist_model/0001',\n",
       " 'my_mnist_model/0001/assets',\n",
       " 'my_mnist_model/0001/fingerprint.pb',\n",
       " 'my_mnist_model/0001/saved_model.pb',\n",
       " 'my_mnist_model/0001/variables',\n",
       " 'my_mnist_model/0001/variables/variables.data-00000-of-00001',\n",
       " 'my_mnist_model/0001/variables/variables.index']"
      ]
     },
     "execution_count": 32,
     "metadata": {},
     "output_type": "execute_result"
    }
   ],
   "source": [
    "sorted([str(path) for path in model_path.parent.glob(\"**/*\")])"
   ]
  },
  {
   "cell_type": "markdown",
   "id": "f997f48b-af4c-4e15-9752-5cad0fdb4b18",
   "metadata": {
    "id": "7Cx61kc5VFyE"
   },
   "source": [
    "SavedModel을 검사한다:"
   ]
  },
  {
   "cell_type": "code",
   "execution_count": 33,
   "id": "25fb662c-ea0a-46a5-aeff-6ca5f5509c6c",
   "metadata": {
    "colab": {
     "base_uri": "https://localhost:8080/"
    },
    "id": "CQfjlLGzVFyE",
    "outputId": "bbdb9a4b-4c8b-4746-f20c-af746da30dc6",
    "scrolled": true
   },
   "outputs": [
    {
     "name": "stdout",
     "output_type": "stream",
     "text": [
      "2025-07-27 16:06:38.258039: E external/local_xla/xla/stream_executor/cuda/cuda_fft.cc:467] Unable to register cuFFT factory: Attempting to register factory for plugin cuFFT when one has already been registered\n",
      "WARNING: All log messages before absl::InitializeLog() is called are written to STDERR\n",
      "E0000 00:00:1753632398.275238    2216 cuda_dnn.cc:8579] Unable to register cuDNN factory: Attempting to register factory for plugin cuDNN when one has already been registered\n",
      "E0000 00:00:1753632398.280470    2216 cuda_blas.cc:1407] Unable to register cuBLAS factory: Attempting to register factory for plugin cuBLAS when one has already been registered\n",
      "W0000 00:00:1753632398.295325    2216 computation_placer.cc:177] computation placer already registered. Please check linkage and avoid linking the same target more than once.\n",
      "W0000 00:00:1753632398.295361    2216 computation_placer.cc:177] computation placer already registered. Please check linkage and avoid linking the same target more than once.\n",
      "W0000 00:00:1753632398.295367    2216 computation_placer.cc:177] computation placer already registered. Please check linkage and avoid linking the same target more than once.\n",
      "W0000 00:00:1753632398.295370    2216 computation_placer.cc:177] computation placer already registered. Please check linkage and avoid linking the same target more than once.\n",
      "2025-07-27 16:06:38.299708: I tensorflow/core/platform/cpu_feature_guard.cc:210] This TensorFlow binary is optimized to use available CPU instructions in performance-critical operations.\n",
      "To enable the following instructions: AVX2 FMA, in other operations, rebuild TensorFlow with the appropriate compiler flags.\n",
      "The given SavedModel contains the following tag-sets:\n",
      "'serve'\n"
     ]
    }
   ],
   "source": [
    "!saved_model_cli show --dir '{model_path}'"
   ]
  },
  {
   "cell_type": "code",
   "execution_count": null,
   "id": "35e4cefb-6632-476e-ba6b-43a056800717",
   "metadata": {},
   "outputs": [],
   "source": []
  }
 ],
 "metadata": {
  "kernelspec": {
   "display_name": "Python 3 (ipykernel)",
   "language": "python",
   "name": "python3"
  },
  "language_info": {
   "codemirror_mode": {
    "name": "ipython",
    "version": 3
   },
   "file_extension": ".py",
   "mimetype": "text/x-python",
   "name": "python",
   "nbconvert_exporter": "python",
   "pygments_lexer": "ipython3",
   "version": "3.11.13"
  }
 },
 "nbformat": 4,
 "nbformat_minor": 5
}
